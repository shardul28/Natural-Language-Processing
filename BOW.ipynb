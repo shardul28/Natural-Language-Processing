{
  "nbformat": 4,
  "nbformat_minor": 0,
  "metadata": {
    "colab": {
      "name": "Untitled13.ipynb",
      "provenance": [],
      "collapsed_sections": [],
      "toc_visible": true,
      "authorship_tag": "ABX9TyONNu2DJiJ3r2TqlcV5Fp4z",
      "include_colab_link": true
    },
    "kernelspec": {
      "name": "python3",
      "display_name": "Python 3"
    },
    "language_info": {
      "name": "python"
    }
  },
  "cells": [
    {
      "cell_type": "markdown",
      "metadata": {
        "id": "view-in-github",
        "colab_type": "text"
      },
      "source": [
        "<a href=\"https://colab.research.google.com/github/shardul28/Natural-Language-Processing/blob/master/BOW.ipynb\" target=\"_parent\"><img src=\"https://colab.research.google.com/assets/colab-badge.svg\" alt=\"Open In Colab\"/></a>"
      ]
    },
    {
      "cell_type": "code",
      "metadata": {
        "colab": {
          "base_uri": "https://localhost:8080/"
        },
        "id": "gBL2Yfm7zdxJ",
        "outputId": "1afa4391-905a-42d8-ced2-a651915ac714"
      },
      "source": [
        "import nltk\n",
        "nltk.download('punkt')\n",
        "nltk.download('stopwords')\n",
        "nltk.download('wordnet')"
      ],
      "execution_count": 87,
      "outputs": [
        {
          "output_type": "stream",
          "name": "stdout",
          "text": [
            "[nltk_data] Downloading package punkt to /root/nltk_data...\n",
            "[nltk_data]   Package punkt is already up-to-date!\n",
            "[nltk_data] Downloading package stopwords to /root/nltk_data...\n",
            "[nltk_data]   Package stopwords is already up-to-date!\n",
            "[nltk_data] Downloading package wordnet to /root/nltk_data...\n",
            "[nltk_data]   Package wordnet is already up-to-date!\n"
          ]
        },
        {
          "output_type": "execute_result",
          "data": {
            "text/plain": [
              "True"
            ]
          },
          "metadata": {},
          "execution_count": 87
        }
      ]
    },
    {
      "cell_type": "code",
      "metadata": {
        "id": "umCmcSuJzg16"
      },
      "source": [
        "paragraph = \"\"\" Based on Marvel Comics' superhero character, this is a story of Peter Parker who is a nerdy high-schooler. He was orphaned as a child, bullied by jocks, and can't confess his crush for his stunning neighborhood girl Mary Jane Watson. To say his life is \"miserable\" is an understatement. But one day while on an excursion to a laboratory a runaway radioactive spider bites him... and his life changes in a way no one could have imagined. Peter acquires a muscle-bound physique, clear vision, ability to cling to surfaces and crawl over walls, shooting webs from his wrist ... but the fun isn't going to last. An eccentric millionaire Norman Osborn administers a performance enhancing drug on himself and his maniacal alter ego Green Goblin emerges. Now Peter Parker has to become Spider-Man and take Green Goblin to the task... or else Goblin will kill him. They come face to face and the war begins in which only one of them will survive at the end.\"\"\""
      ],
      "execution_count": 88,
      "outputs": []
    },
    {
      "cell_type": "code",
      "metadata": {
        "id": "tkfA9NeMz2zZ"
      },
      "source": [
        "# Tokenizing sentences\n",
        "sentences = nltk.sent_tokenize(paragraph)\n",
        "\n",
        "# Tokenizing words\n",
        "words = nltk.word_tokenize(paragraph)"
      ],
      "execution_count": 89,
      "outputs": []
    },
    {
      "cell_type": "code",
      "metadata": {
        "colab": {
          "base_uri": "https://localhost:8080/"
        },
        "id": "Jb7thviG0Dro",
        "outputId": "d7e16ee2-97fe-4135-eb8c-d515c02e476c"
      },
      "source": [
        "sentences"
      ],
      "execution_count": 90,
      "outputs": [
        {
          "output_type": "execute_result",
          "data": {
            "text/plain": [
              "[\" Based on Marvel Comics' superhero character, this is a story of Peter Parker who is a nerdy high-schooler.\",\n",
              " \"He was orphaned as a child, bullied by jocks, and can't confess his crush for his stunning neighborhood girl Mary Jane Watson.\",\n",
              " 'To say his life is \"miserable\" is an understatement.',\n",
              " 'But one day while on an excursion to a laboratory a runaway radioactive spider bites him... and his life changes in a way no one could have imagined.',\n",
              " \"Peter acquires a muscle-bound physique, clear vision, ability to cling to surfaces and crawl over walls, shooting webs from his wrist ... but the fun isn't going to last.\",\n",
              " 'An eccentric millionaire Norman Osborn administers a performance enhancing drug on himself and his maniacal alter ego Green Goblin emerges.',\n",
              " 'Now Peter Parker has to become Spider-Man and take Green Goblin to the task... or else Goblin will kill him.',\n",
              " 'They come face to face and the war begins in which only one of them will survive at the end.']"
            ]
          },
          "metadata": {},
          "execution_count": 90
        }
      ]
    },
    {
      "cell_type": "code",
      "metadata": {
        "id": "1s1AUzrY0FU5",
        "colab": {
          "base_uri": "https://localhost:8080/"
        },
        "outputId": "297c08c8-07d7-455b-de85-1fb09e9250a6"
      },
      "source": [
        "words"
      ],
      "execution_count": 91,
      "outputs": [
        {
          "output_type": "execute_result",
          "data": {
            "text/plain": [
              "['Based',\n",
              " 'on',\n",
              " 'Marvel',\n",
              " 'Comics',\n",
              " \"'\",\n",
              " 'superhero',\n",
              " 'character',\n",
              " ',',\n",
              " 'this',\n",
              " 'is',\n",
              " 'a',\n",
              " 'story',\n",
              " 'of',\n",
              " 'Peter',\n",
              " 'Parker',\n",
              " 'who',\n",
              " 'is',\n",
              " 'a',\n",
              " 'nerdy',\n",
              " 'high-schooler',\n",
              " '.',\n",
              " 'He',\n",
              " 'was',\n",
              " 'orphaned',\n",
              " 'as',\n",
              " 'a',\n",
              " 'child',\n",
              " ',',\n",
              " 'bullied',\n",
              " 'by',\n",
              " 'jocks',\n",
              " ',',\n",
              " 'and',\n",
              " 'ca',\n",
              " \"n't\",\n",
              " 'confess',\n",
              " 'his',\n",
              " 'crush',\n",
              " 'for',\n",
              " 'his',\n",
              " 'stunning',\n",
              " 'neighborhood',\n",
              " 'girl',\n",
              " 'Mary',\n",
              " 'Jane',\n",
              " 'Watson',\n",
              " '.',\n",
              " 'To',\n",
              " 'say',\n",
              " 'his',\n",
              " 'life',\n",
              " 'is',\n",
              " '``',\n",
              " 'miserable',\n",
              " \"''\",\n",
              " 'is',\n",
              " 'an',\n",
              " 'understatement',\n",
              " '.',\n",
              " 'But',\n",
              " 'one',\n",
              " 'day',\n",
              " 'while',\n",
              " 'on',\n",
              " 'an',\n",
              " 'excursion',\n",
              " 'to',\n",
              " 'a',\n",
              " 'laboratory',\n",
              " 'a',\n",
              " 'runaway',\n",
              " 'radioactive',\n",
              " 'spider',\n",
              " 'bites',\n",
              " 'him',\n",
              " '...',\n",
              " 'and',\n",
              " 'his',\n",
              " 'life',\n",
              " 'changes',\n",
              " 'in',\n",
              " 'a',\n",
              " 'way',\n",
              " 'no',\n",
              " 'one',\n",
              " 'could',\n",
              " 'have',\n",
              " 'imagined',\n",
              " '.',\n",
              " 'Peter',\n",
              " 'acquires',\n",
              " 'a',\n",
              " 'muscle-bound',\n",
              " 'physique',\n",
              " ',',\n",
              " 'clear',\n",
              " 'vision',\n",
              " ',',\n",
              " 'ability',\n",
              " 'to',\n",
              " 'cling',\n",
              " 'to',\n",
              " 'surfaces',\n",
              " 'and',\n",
              " 'crawl',\n",
              " 'over',\n",
              " 'walls',\n",
              " ',',\n",
              " 'shooting',\n",
              " 'webs',\n",
              " 'from',\n",
              " 'his',\n",
              " 'wrist',\n",
              " '...',\n",
              " 'but',\n",
              " 'the',\n",
              " 'fun',\n",
              " 'is',\n",
              " \"n't\",\n",
              " 'going',\n",
              " 'to',\n",
              " 'last',\n",
              " '.',\n",
              " 'An',\n",
              " 'eccentric',\n",
              " 'millionaire',\n",
              " 'Norman',\n",
              " 'Osborn',\n",
              " 'administers',\n",
              " 'a',\n",
              " 'performance',\n",
              " 'enhancing',\n",
              " 'drug',\n",
              " 'on',\n",
              " 'himself',\n",
              " 'and',\n",
              " 'his',\n",
              " 'maniacal',\n",
              " 'alter',\n",
              " 'ego',\n",
              " 'Green',\n",
              " 'Goblin',\n",
              " 'emerges',\n",
              " '.',\n",
              " 'Now',\n",
              " 'Peter',\n",
              " 'Parker',\n",
              " 'has',\n",
              " 'to',\n",
              " 'become',\n",
              " 'Spider-Man',\n",
              " 'and',\n",
              " 'take',\n",
              " 'Green',\n",
              " 'Goblin',\n",
              " 'to',\n",
              " 'the',\n",
              " 'task',\n",
              " '...',\n",
              " 'or',\n",
              " 'else',\n",
              " 'Goblin',\n",
              " 'will',\n",
              " 'kill',\n",
              " 'him',\n",
              " '.',\n",
              " 'They',\n",
              " 'come',\n",
              " 'face',\n",
              " 'to',\n",
              " 'face',\n",
              " 'and',\n",
              " 'the',\n",
              " 'war',\n",
              " 'begins',\n",
              " 'in',\n",
              " 'which',\n",
              " 'only',\n",
              " 'one',\n",
              " 'of',\n",
              " 'them',\n",
              " 'will',\n",
              " 'survive',\n",
              " 'at',\n",
              " 'the',\n",
              " 'end',\n",
              " '.']"
            ]
          },
          "metadata": {},
          "execution_count": 91
        }
      ]
    },
    {
      "cell_type": "markdown",
      "metadata": {
        "id": "_WvS37--5Ibp"
      },
      "source": [
        "# Tokenization\n"
      ]
    },
    {
      "cell_type": "code",
      "metadata": {
        "id": "UF4m-Ice0j5B"
      },
      "source": [
        "from nltk.stem import PorterStemmer\n",
        "from nltk.corpus import stopwords"
      ],
      "execution_count": 92,
      "outputs": []
    },
    {
      "cell_type": "code",
      "metadata": {
        "id": "4xDfQeO12sic"
      },
      "source": [
        "tokensentences = nltk.sent_tokenize(paragraph)\n",
        "stemmer = PorterStemmer()\n",
        "\n",
        "# Stemming\n",
        "for i in range(len(sentences)):\n",
        "    words = nltk.word_tokenize(tokensentences[i])\n",
        "    tokenstopwords = [stemmer.stem(word) for word in words if word not in set(stopwords.words('english'))]\n",
        "    tokensentences[i] = ' '.join(tokenstopwords)   \n",
        "    "
      ],
      "execution_count": 102,
      "outputs": []
    },
    {
      "cell_type": "code",
      "metadata": {
        "colab": {
          "base_uri": "https://localhost:8080/"
        },
        "id": "XAVJ5rEp2zYa",
        "outputId": "bceae3d5-b702-4f2a-91fe-156da88a43a5"
      },
      "source": [
        "tokenstopwords"
      ],
      "execution_count": 105,
      "outputs": [
        {
          "output_type": "execute_result",
          "data": {
            "text/plain": [
              "['they', 'come', 'face', 'face', 'war', 'begin', 'one', 'surviv', 'end', '.']"
            ]
          },
          "metadata": {},
          "execution_count": 105
        }
      ]
    },
    {
      "cell_type": "code",
      "metadata": {
        "colab": {
          "base_uri": "https://localhost:8080/"
        },
        "id": "WX_tHp6b3x8Z",
        "outputId": "847d737f-29be-4615-d0ec-8d00afd35622"
      },
      "source": [
        "sentences"
      ],
      "execution_count": 95,
      "outputs": [
        {
          "output_type": "execute_result",
          "data": {
            "text/plain": [
              "[\" Based on Marvel Comics' superhero character, this is a story of Peter Parker who is a nerdy high-schooler.\",\n",
              " \"He was orphaned as a child, bullied by jocks, and can't confess his crush for his stunning neighborhood girl Mary Jane Watson.\",\n",
              " 'To say his life is \"miserable\" is an understatement.',\n",
              " 'But one day while on an excursion to a laboratory a runaway radioactive spider bites him... and his life changes in a way no one could have imagined.',\n",
              " \"Peter acquires a muscle-bound physique, clear vision, ability to cling to surfaces and crawl over walls, shooting webs from his wrist ... but the fun isn't going to last.\",\n",
              " 'An eccentric millionaire Norman Osborn administers a performance enhancing drug on himself and his maniacal alter ego Green Goblin emerges.',\n",
              " 'Now Peter Parker has to become Spider-Man and take Green Goblin to the task... or else Goblin will kill him.',\n",
              " 'They come face to face and the war begins in which only one of them will survive at the end.']"
            ]
          },
          "metadata": {},
          "execution_count": 95
        }
      ]
    },
    {
      "cell_type": "code",
      "metadata": {
        "colab": {
          "base_uri": "https://localhost:8080/"
        },
        "id": "8kn3aIzF3a5J",
        "outputId": "324f27c7-5b1c-42a2-a9a6-062afb67b21d"
      },
      "source": [
        "tokensentences"
      ],
      "execution_count": 96,
      "outputs": [
        {
          "output_type": "execute_result",
          "data": {
            "text/plain": [
              "[\"base marvel comic ' superhero charact , stori peter parker nerdi high-school .\",\n",
              " \"He orphan child , bulli jock , ca n't confess crush stun neighborhood girl mari jane watson .\",\n",
              " \"To say life `` miser '' understat .\",\n",
              " 'but one day excurs laboratori runaway radioact spider bite ... life chang way one could imagin .',\n",
              " \"peter acquir muscle-bound physiqu , clear vision , abil cling surfac crawl wall , shoot web wrist ... fun n't go last .\",\n",
              " 'An eccentr millionair norman osborn administ perform enhanc drug maniac alter ego green goblin emerg .',\n",
              " 'now peter parker becom spider-man take green goblin task ... els goblin kill .',\n",
              " 'they come face face war begin one surviv end .']"
            ]
          },
          "metadata": {},
          "execution_count": 96
        }
      ]
    },
    {
      "cell_type": "code",
      "metadata": {
        "id": "PkeR2M3o4_Xo"
      },
      "source": [
        ""
      ],
      "execution_count": 96,
      "outputs": []
    },
    {
      "cell_type": "markdown",
      "metadata": {
        "id": "QfbTPWcb5AG5"
      },
      "source": [
        "# Lemmatization\n"
      ]
    },
    {
      "cell_type": "code",
      "metadata": {
        "id": "CoYOTve84omS"
      },
      "source": [
        "from nltk.stem import WordNetLemmatizer\n",
        "lemmatizer = WordNetLemmatizer()\n",
        "lemmasentences=sentences\n",
        "\n",
        "for i in range(0,len(sentences)):\n",
        "    words = nltk.word_tokenize(sentences[i])\n",
        "    lemmawords = [lemmatizer.lemmatize(word) for word in words if word not in set(stopwords.words('english'))]\n",
        "    lemmasentences[i] = ' '.join(lemmawords)   "
      ],
      "execution_count": 110,
      "outputs": []
    },
    {
      "cell_type": "code",
      "metadata": {
        "colab": {
          "base_uri": "https://localhost:8080/"
        },
        "id": "hbYFx_MQ5rVw",
        "outputId": "801f244b-2c77-48a2-a3a1-07421a79bd83"
      },
      "source": [
        "tokenwords"
      ],
      "execution_count": 111,
      "outputs": [
        {
          "output_type": "execute_result",
          "data": {
            "text/plain": [
              "['they', 'come', 'face', 'face', 'war', 'begin', 'one', 'surviv', 'end', '.']"
            ]
          },
          "metadata": {},
          "execution_count": 111
        }
      ]
    },
    {
      "cell_type": "code",
      "metadata": {
        "colab": {
          "base_uri": "https://localhost:8080/"
        },
        "id": "N4fq9PBw5oyH",
        "outputId": "ff0c6d7c-aa7e-492d-a3c6-7bce7ecde080"
      },
      "source": [
        "lemmawords"
      ],
      "execution_count": 112,
      "outputs": [
        {
          "output_type": "execute_result",
          "data": {
            "text/plain": [
              "['They', 'come', 'face', 'face', 'war', 'begin', 'one', 'survive', 'end', '.']"
            ]
          },
          "metadata": {},
          "execution_count": 112
        }
      ]
    },
    {
      "cell_type": "code",
      "metadata": {
        "colab": {
          "base_uri": "https://localhost:8080/"
        },
        "id": "HFh1xWYu584o",
        "outputId": "bae95245-69ab-446b-f2f6-eeb4c00e6bca"
      },
      "source": [
        "tokensentences"
      ],
      "execution_count": 113,
      "outputs": [
        {
          "output_type": "execute_result",
          "data": {
            "text/plain": [
              "[\"base marvel comic ' superhero charact , stori peter parker nerdi high-school .\",\n",
              " \"He orphan child , bulli jock , ca n't confess crush stun neighborhood girl mari jane watson .\",\n",
              " \"To say life `` miser '' understat .\",\n",
              " 'but one day excurs laboratori runaway radioact spider bite ... life chang way one could imagin .',\n",
              " \"peter acquir muscle-bound physiqu , clear vision , abil cling surfac crawl wall , shoot web wrist ... fun n't go last .\",\n",
              " 'An eccentr millionair norman osborn administ perform enhanc drug maniac alter ego green goblin emerg .',\n",
              " 'now peter parker becom spider-man take green goblin task ... els goblin kill .',\n",
              " 'they come face face war begin one surviv end .']"
            ]
          },
          "metadata": {},
          "execution_count": 113
        }
      ]
    },
    {
      "cell_type": "code",
      "metadata": {
        "colab": {
          "base_uri": "https://localhost:8080/"
        },
        "id": "XWF8VXMQ5kdw",
        "outputId": "3088663b-cb2f-4457-ab68-b57791fdf17c"
      },
      "source": [
        "lemmasentences"
      ],
      "execution_count": 114,
      "outputs": [
        {
          "output_type": "execute_result",
          "data": {
            "text/plain": [
              "[\"Based Marvel Comics ' superhero character , story Peter Parker nerdy high-schooler .\",\n",
              " \"He orphaned child , bullied jock , ca n't confess crush stunning neighborhood girl Mary Jane Watson .\",\n",
              " \"To say life `` miserable '' understatement .\",\n",
              " 'But one day excursion laboratory runaway radioactive spider bite ... life change way one could imagined .',\n",
              " \"Peter acquires muscle-bound physique , clear vision , ability cling surface crawl wall , shooting web wrist ... fun n't going last .\",\n",
              " 'An eccentric millionaire Norman Osborn administers performance enhancing drug maniacal alter ego Green Goblin emerges .',\n",
              " 'Now Peter Parker become Spider-Man take Green Goblin task ... else Goblin kill .',\n",
              " 'They come face face war begin one survive end .']"
            ]
          },
          "metadata": {},
          "execution_count": 114
        }
      ]
    },
    {
      "cell_type": "markdown",
      "metadata": {
        "id": "MPOj2CEjOy5O"
      },
      "source": [
        "# BOW\n"
      ]
    },
    {
      "cell_type": "code",
      "metadata": {
        "id": "d2G0mN7oRNNS"
      },
      "source": [
        "#using stemming\n",
        "import re\n",
        "ps = PorterStemmer()\n",
        "wordnet=WordNetLemmatizer()\n",
        "sentences = nltk.sent_tokenize(paragraph)\n",
        "corpus = []\n",
        "for i in range(len(sentences)):\n",
        "    review = re.sub('[^a-zA-Z]', ' ', sentences[i])\n",
        "    review = review.lower()\n",
        "    review = review.split()\n",
        "    review = [ps.stem(word) for word in review if not word in set(stopwords.words('english'))]\n",
        "    #review = [wordnet.lemmatize(word) for word in review if not word in set(stopwords.words('english'))]\n",
        "    review = ' '.join(review)\n",
        "    corpus.append(review)\n",
        "    \n",
        "# Creating the Bag of Words model\n",
        "from sklearn.feature_extraction.text import CountVectorizer\n",
        "cv = CountVectorizer(max_features = 1500)\n",
        "X = cv.fit_transform(corpus).toarray()\n"
      ],
      "execution_count": 126,
      "outputs": []
    },
    {
      "cell_type": "code",
      "metadata": {
        "colab": {
          "base_uri": "https://localhost:8080/"
        },
        "id": "CD6UlIo6RNNS",
        "outputId": "7dfdcb74-1ab7-4140-89ba-89d5b323560d"
      },
      "source": [
        "corpus"
      ],
      "execution_count": 127,
      "outputs": [
        {
          "output_type": "execute_result",
          "data": {
            "text/plain": [
              "['base marvel comic superhero charact stori peter parker nerdi high schooler',\n",
              " 'orphan child bulli jock confess crush stun neighborhood girl mari jane watson',\n",
              " 'say life miser understat',\n",
              " 'one day excurs laboratori runaway radioact spider bite life chang way one could imagin',\n",
              " 'peter acquir muscl bound physiqu clear vision abil cling surfac crawl wall shoot web wrist fun go last',\n",
              " 'eccentr millionair norman osborn administ perform enhanc drug maniac alter ego green goblin emerg',\n",
              " 'peter parker becom spider man take green goblin task els goblin kill',\n",
              " 'come face face war begin one surviv end']"
            ]
          },
          "metadata": {},
          "execution_count": 127
        }
      ]
    },
    {
      "cell_type": "code",
      "metadata": {
        "colab": {
          "base_uri": "https://localhost:8080/"
        },
        "id": "IQbsPrZjRNNT",
        "outputId": "ac5a66ea-54a6-42e5-c8dd-22b997f0692c"
      },
      "source": [
        "X"
      ],
      "execution_count": 128,
      "outputs": [
        {
          "output_type": "execute_result",
          "data": {
            "text/plain": [
              "array([[0, 0, 0, 0, 1, 0, 0, 0, 0, 0, 0, 1, 0, 0, 0, 0, 1, 0, 0, 0, 0, 0,\n",
              "        0, 0, 0, 0, 0, 0, 0, 0, 0, 0, 0, 0, 0, 0, 1, 0, 0, 0, 0, 0, 0, 0,\n",
              "        0, 0, 0, 1, 0, 0, 0, 0, 1, 0, 0, 0, 0, 1, 0, 1, 0, 0, 0, 0, 1, 0,\n",
              "        0, 1, 0, 1, 0, 0, 0, 0, 0, 0, 0, 0, 0, 0, 0, 0],\n",
              "       [0, 0, 0, 0, 0, 0, 0, 0, 0, 1, 0, 0, 1, 0, 0, 0, 0, 1, 0, 0, 1, 0,\n",
              "        0, 0, 0, 0, 0, 0, 0, 0, 0, 0, 1, 0, 0, 0, 0, 0, 1, 1, 0, 0, 0, 0,\n",
              "        0, 0, 1, 0, 0, 0, 0, 1, 0, 0, 0, 1, 0, 0, 0, 0, 0, 0, 0, 0, 0, 0,\n",
              "        0, 0, 1, 0, 0, 0, 0, 0, 0, 0, 0, 0, 1, 0, 0, 0],\n",
              "       [0, 0, 0, 0, 0, 0, 0, 0, 0, 0, 0, 0, 0, 0, 0, 0, 0, 0, 0, 0, 0, 0,\n",
              "        0, 0, 0, 0, 0, 0, 0, 0, 0, 0, 0, 0, 0, 0, 0, 0, 0, 0, 0, 0, 0, 1,\n",
              "        0, 0, 0, 0, 0, 1, 0, 0, 0, 0, 0, 0, 0, 0, 0, 0, 0, 0, 0, 1, 0, 0,\n",
              "        0, 0, 0, 0, 0, 0, 0, 0, 1, 0, 0, 0, 0, 0, 0, 0],\n",
              "       [0, 0, 0, 0, 0, 0, 0, 1, 0, 0, 1, 0, 0, 0, 0, 0, 0, 0, 1, 0, 0, 1,\n",
              "        0, 0, 0, 0, 0, 0, 0, 1, 0, 0, 0, 0, 0, 0, 0, 1, 0, 0, 0, 1, 0, 1,\n",
              "        0, 0, 0, 0, 0, 0, 0, 0, 0, 0, 2, 0, 0, 0, 0, 0, 0, 1, 1, 0, 0, 0,\n",
              "        1, 0, 0, 0, 0, 0, 0, 0, 0, 0, 0, 0, 0, 1, 0, 0],\n",
              "       [1, 1, 0, 0, 0, 0, 0, 0, 1, 0, 0, 0, 0, 1, 1, 0, 0, 0, 0, 1, 0, 0,\n",
              "        0, 0, 0, 0, 0, 0, 0, 0, 0, 1, 0, 1, 0, 0, 0, 0, 0, 0, 0, 0, 1, 0,\n",
              "        0, 0, 0, 0, 0, 0, 1, 0, 0, 0, 0, 0, 0, 0, 0, 1, 1, 0, 0, 0, 0, 1,\n",
              "        0, 0, 0, 0, 1, 0, 0, 0, 0, 1, 1, 0, 0, 0, 1, 1],\n",
              "       [0, 0, 1, 1, 0, 0, 0, 0, 0, 0, 0, 0, 0, 0, 0, 0, 0, 0, 0, 0, 0, 0,\n",
              "        1, 1, 1, 0, 1, 0, 1, 0, 0, 0, 0, 0, 1, 1, 0, 0, 0, 0, 0, 0, 0, 0,\n",
              "        0, 1, 0, 0, 1, 0, 0, 0, 0, 1, 0, 0, 1, 0, 1, 0, 0, 0, 0, 0, 0, 0,\n",
              "        0, 0, 0, 0, 0, 0, 0, 0, 0, 0, 0, 0, 0, 0, 0, 0],\n",
              "       [0, 0, 0, 0, 0, 1, 0, 0, 0, 0, 0, 0, 0, 0, 0, 0, 0, 0, 0, 0, 0, 0,\n",
              "        0, 0, 0, 1, 0, 0, 0, 0, 0, 0, 0, 0, 2, 1, 0, 0, 0, 0, 1, 0, 0, 0,\n",
              "        1, 0, 0, 0, 0, 0, 0, 0, 0, 0, 0, 0, 0, 1, 0, 1, 0, 0, 0, 0, 0, 0,\n",
              "        1, 0, 0, 0, 0, 0, 1, 1, 0, 0, 0, 0, 0, 0, 0, 0],\n",
              "       [0, 0, 0, 0, 0, 0, 1, 0, 0, 0, 0, 0, 0, 0, 0, 1, 0, 0, 0, 0, 0, 0,\n",
              "        0, 0, 0, 0, 0, 1, 0, 0, 2, 0, 0, 0, 0, 0, 0, 0, 0, 0, 0, 0, 0, 0,\n",
              "        0, 0, 0, 0, 0, 0, 0, 0, 0, 0, 1, 0, 0, 0, 0, 0, 0, 0, 0, 0, 0, 0,\n",
              "        0, 0, 0, 0, 0, 1, 0, 0, 0, 0, 0, 1, 0, 0, 0, 0]])"
            ]
          },
          "metadata": {},
          "execution_count": 128
        }
      ]
    },
    {
      "cell_type": "code",
      "metadata": {
        "id": "g1518qkKO0z6"
      },
      "source": [
        "#using lemmatization\n",
        "import re\n",
        "ps = PorterStemmer()\n",
        "wordnet=WordNetLemmatizer()\n",
        "sentences = nltk.sent_tokenize(paragraph)\n",
        "corpus = []\n",
        "for i in range(len(sentences)):\n",
        "    review = re.sub('[^a-zA-Z]', ' ', sentences[i])\n",
        "    review = review.lower()\n",
        "    review = review.split()\n",
        "    #review = [ps.stem(word) for word in review if not word in set(stopwords.words('english'))]\n",
        "    review = [wordnet.lemmatize(word) for word in review if not word in set(stopwords.words('english'))]\n",
        "    review = ' '.join(review)\n",
        "    corpus.append(review)\n",
        "    \n",
        "# Creating the Bag of Words model\n",
        "from sklearn.feature_extraction.text import CountVectorizer\n",
        "cv = CountVectorizer(max_features = 1500)\n",
        "X = cv.fit_transform(corpus).toarray()\n"
      ],
      "execution_count": 129,
      "outputs": []
    },
    {
      "cell_type": "code",
      "metadata": {
        "colab": {
          "base_uri": "https://localhost:8080/"
        },
        "id": "8ndIn10aPIVY",
        "outputId": "0bb1d843-279b-4d42-e1c2-9313aabe87ac"
      },
      "source": [
        "corpus"
      ],
      "execution_count": 130,
      "outputs": [
        {
          "output_type": "execute_result",
          "data": {
            "text/plain": [
              "['based marvel comic superhero character story peter parker nerdy high schooler',\n",
              " 'orphaned child bullied jock confess crush stunning neighborhood girl mary jane watson',\n",
              " 'say life miserable understatement',\n",
              " 'one day excursion laboratory runaway radioactive spider bite life change way one could imagined',\n",
              " 'peter acquires muscle bound physique clear vision ability cling surface crawl wall shooting web wrist fun going last',\n",
              " 'eccentric millionaire norman osborn administers performance enhancing drug maniacal alter ego green goblin emerges',\n",
              " 'peter parker become spider man take green goblin task else goblin kill',\n",
              " 'come face face war begin one survive end']"
            ]
          },
          "metadata": {},
          "execution_count": 130
        }
      ]
    },
    {
      "cell_type": "code",
      "metadata": {
        "colab": {
          "base_uri": "https://localhost:8080/"
        },
        "id": "Y9oCWAoRPL1Y",
        "outputId": "e01e2e88-42db-44c0-9385-0971dc18a068"
      },
      "source": [
        "X"
      ],
      "execution_count": 131,
      "outputs": [
        {
          "output_type": "execute_result",
          "data": {
            "text/plain": [
              "array([[0, 0, 0, 0, 1, 0, 0, 0, 0, 0, 0, 1, 0, 0, 0, 0, 1, 0, 0, 0, 0, 0,\n",
              "        0, 0, 0, 0, 0, 0, 0, 0, 0, 0, 0, 0, 0, 0, 1, 0, 0, 0, 0, 0, 0, 0,\n",
              "        0, 0, 1, 0, 0, 0, 0, 0, 1, 0, 0, 0, 0, 1, 0, 1, 0, 0, 0, 0, 1, 0,\n",
              "        0, 1, 0, 1, 0, 0, 0, 0, 0, 0, 0, 0, 0, 0, 0, 0],\n",
              "       [0, 0, 0, 0, 0, 0, 0, 0, 0, 1, 0, 0, 1, 0, 0, 0, 0, 1, 0, 0, 1, 0,\n",
              "        0, 0, 0, 0, 0, 0, 0, 0, 0, 0, 1, 0, 0, 0, 0, 0, 1, 1, 0, 0, 0, 0,\n",
              "        0, 0, 0, 1, 0, 0, 0, 1, 0, 0, 0, 1, 0, 0, 0, 0, 0, 0, 0, 0, 0, 0,\n",
              "        0, 0, 1, 0, 0, 0, 0, 0, 0, 0, 0, 0, 1, 0, 0, 0],\n",
              "       [0, 0, 0, 0, 0, 0, 0, 0, 0, 0, 0, 0, 0, 0, 0, 0, 0, 0, 0, 0, 0, 0,\n",
              "        0, 0, 0, 0, 0, 0, 0, 0, 0, 0, 0, 0, 0, 0, 0, 0, 0, 0, 0, 0, 0, 1,\n",
              "        0, 0, 0, 0, 0, 1, 0, 0, 0, 0, 0, 0, 0, 0, 0, 0, 0, 0, 0, 1, 0, 0,\n",
              "        0, 0, 0, 0, 0, 0, 0, 0, 1, 0, 0, 0, 0, 0, 0, 0],\n",
              "       [0, 0, 0, 0, 0, 0, 0, 1, 0, 0, 1, 0, 0, 0, 0, 0, 0, 0, 1, 0, 0, 1,\n",
              "        0, 0, 0, 0, 0, 0, 0, 1, 0, 0, 0, 0, 0, 0, 0, 1, 0, 0, 0, 1, 0, 1,\n",
              "        0, 0, 0, 0, 0, 0, 0, 0, 0, 0, 2, 0, 0, 0, 0, 0, 0, 1, 1, 0, 0, 0,\n",
              "        1, 0, 0, 0, 0, 0, 0, 0, 0, 0, 0, 0, 0, 1, 0, 0],\n",
              "       [1, 1, 0, 0, 0, 0, 0, 0, 1, 0, 0, 0, 0, 1, 1, 0, 0, 0, 0, 1, 0, 0,\n",
              "        0, 0, 0, 0, 0, 0, 0, 0, 0, 1, 0, 0, 1, 0, 0, 0, 0, 0, 0, 0, 1, 0,\n",
              "        0, 0, 0, 0, 0, 0, 1, 0, 0, 0, 0, 0, 0, 0, 0, 1, 1, 0, 0, 0, 0, 1,\n",
              "        0, 0, 0, 0, 1, 0, 0, 0, 0, 1, 1, 0, 0, 0, 1, 1],\n",
              "       [0, 0, 1, 1, 0, 0, 0, 0, 0, 0, 0, 0, 0, 0, 0, 0, 0, 0, 0, 0, 0, 0,\n",
              "        1, 1, 1, 0, 1, 0, 1, 0, 0, 0, 0, 1, 0, 1, 0, 0, 0, 0, 0, 0, 0, 0,\n",
              "        0, 1, 0, 0, 1, 0, 0, 0, 0, 1, 0, 0, 1, 0, 1, 0, 0, 0, 0, 0, 0, 0,\n",
              "        0, 0, 0, 0, 0, 0, 0, 0, 0, 0, 0, 0, 0, 0, 0, 0],\n",
              "       [0, 0, 0, 0, 0, 1, 0, 0, 0, 0, 0, 0, 0, 0, 0, 0, 0, 0, 0, 0, 0, 0,\n",
              "        0, 0, 0, 1, 0, 0, 0, 0, 0, 0, 0, 2, 0, 1, 0, 0, 0, 0, 1, 0, 0, 0,\n",
              "        1, 0, 0, 0, 0, 0, 0, 0, 0, 0, 0, 0, 0, 1, 0, 1, 0, 0, 0, 0, 0, 0,\n",
              "        1, 0, 0, 0, 0, 0, 1, 1, 0, 0, 0, 0, 0, 0, 0, 0],\n",
              "       [0, 0, 0, 0, 0, 0, 1, 0, 0, 0, 0, 0, 0, 0, 0, 1, 0, 0, 0, 0, 0, 0,\n",
              "        0, 0, 0, 0, 0, 1, 0, 0, 2, 0, 0, 0, 0, 0, 0, 0, 0, 0, 0, 0, 0, 0,\n",
              "        0, 0, 0, 0, 0, 0, 0, 0, 0, 0, 1, 0, 0, 0, 0, 0, 0, 0, 0, 0, 0, 0,\n",
              "        0, 0, 0, 0, 0, 1, 0, 0, 0, 0, 0, 1, 0, 0, 0, 0]])"
            ]
          },
          "metadata": {},
          "execution_count": 131
        }
      ]
    }
  ]
}