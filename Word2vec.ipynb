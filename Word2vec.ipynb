{
  "nbformat": 4,
  "nbformat_minor": 0,
  "metadata": {
    "colab": {
      "name": "Untitled13.ipynb",
      "provenance": [],
      "collapsed_sections": [],
      "toc_visible": true,
      "authorship_tag": "ABX9TyOB5FsT68VjX1l6o7ysLzIA",
      "include_colab_link": true
    },
    "kernelspec": {
      "name": "python3",
      "display_name": "Python 3"
    },
    "language_info": {
      "name": "python"
    }
  },
  "cells": [
    {
      "cell_type": "markdown",
      "metadata": {
        "id": "view-in-github",
        "colab_type": "text"
      },
      "source": [
        "<a href=\"https://colab.research.google.com/github/shardul28/Natural-Language-Processing/blob/master/Word2vec.ipynb\" target=\"_parent\"><img src=\"https://colab.research.google.com/assets/colab-badge.svg\" alt=\"Open In Colab\"/></a>"
      ]
    },
    {
      "cell_type": "code",
      "metadata": {
        "colab": {
          "base_uri": "https://localhost:8080/"
        },
        "id": "gBL2Yfm7zdxJ",
        "outputId": "ab348c45-d16e-468c-88b6-80b50c5efd1d"
      },
      "source": [
        "import nltk\n",
        "nltk.download('punkt')\n",
        "nltk.download('stopwords')\n",
        "nltk.download('wordnet')"
      ],
      "execution_count": 138,
      "outputs": [
        {
          "output_type": "stream",
          "name": "stdout",
          "text": [
            "[nltk_data] Downloading package punkt to /root/nltk_data...\n",
            "[nltk_data]   Package punkt is already up-to-date!\n",
            "[nltk_data] Downloading package stopwords to /root/nltk_data...\n",
            "[nltk_data]   Package stopwords is already up-to-date!\n",
            "[nltk_data] Downloading package wordnet to /root/nltk_data...\n",
            "[nltk_data]   Package wordnet is already up-to-date!\n"
          ]
        },
        {
          "output_type": "execute_result",
          "data": {
            "text/plain": [
              "True"
            ]
          },
          "metadata": {},
          "execution_count": 138
        }
      ]
    },
    {
      "cell_type": "code",
      "metadata": {
        "id": "umCmcSuJzg16"
      },
      "source": [
        "paragraph = \"\"\" Based on Marvel Comics' superhero character, this is a story of Peter Parker who is a nerdy high-schooler. He was orphaned as a child, bullied by jocks, and can't confess his crush for his stunning neighborhood girl Mary Jane Watson. To say his life is \"miserable\" is an understatement. But one day while on an excursion to a laboratory a runaway radioactive spider bites him... and his life changes in a way no one could have imagined. Peter acquires a muscle-bound physique, clear vision, ability to cling to surfaces and crawl over walls, shooting webs from his wrist ... but the fun isn't going to last. An eccentric millionaire Norman Osborn administers a performance enhancing drug on himself and his maniacal alter ego Green Goblin emerges. Now Peter Parker has to become Spider-Man and take Green Goblin to the task... or else Goblin will kill him. They come face to face and the war begins in which only one of them will survive at the end.\"\"\""
      ],
      "execution_count": 139,
      "outputs": []
    },
    {
      "cell_type": "code",
      "metadata": {
        "id": "tkfA9NeMz2zZ"
      },
      "source": [
        "# Tokenizing sentences\n",
        "sentences = nltk.sent_tokenize(paragraph)\n",
        "\n",
        "# Tokenizing words\n",
        "words = nltk.word_tokenize(paragraph)"
      ],
      "execution_count": 140,
      "outputs": []
    },
    {
      "cell_type": "code",
      "metadata": {
        "colab": {
          "base_uri": "https://localhost:8080/"
        },
        "id": "Jb7thviG0Dro",
        "outputId": "261dbc9c-3b02-4bb2-8a15-7d18c7eaaf0e"
      },
      "source": [
        "sentences"
      ],
      "execution_count": 141,
      "outputs": [
        {
          "output_type": "execute_result",
          "data": {
            "text/plain": [
              "[\" Based on Marvel Comics' superhero character, this is a story of Peter Parker who is a nerdy high-schooler.\",\n",
              " \"He was orphaned as a child, bullied by jocks, and can't confess his crush for his stunning neighborhood girl Mary Jane Watson.\",\n",
              " 'To say his life is \"miserable\" is an understatement.',\n",
              " 'But one day while on an excursion to a laboratory a runaway radioactive spider bites him... and his life changes in a way no one could have imagined.',\n",
              " \"Peter acquires a muscle-bound physique, clear vision, ability to cling to surfaces and crawl over walls, shooting webs from his wrist ... but the fun isn't going to last.\",\n",
              " 'An eccentric millionaire Norman Osborn administers a performance enhancing drug on himself and his maniacal alter ego Green Goblin emerges.',\n",
              " 'Now Peter Parker has to become Spider-Man and take Green Goblin to the task... or else Goblin will kill him.',\n",
              " 'They come face to face and the war begins in which only one of them will survive at the end.']"
            ]
          },
          "metadata": {},
          "execution_count": 141
        }
      ]
    },
    {
      "cell_type": "code",
      "metadata": {
        "id": "1s1AUzrY0FU5",
        "colab": {
          "base_uri": "https://localhost:8080/"
        },
        "outputId": "d333b457-0508-4f59-9158-9b4869ede416"
      },
      "source": [
        "words"
      ],
      "execution_count": 142,
      "outputs": [
        {
          "output_type": "execute_result",
          "data": {
            "text/plain": [
              "['Based',\n",
              " 'on',\n",
              " 'Marvel',\n",
              " 'Comics',\n",
              " \"'\",\n",
              " 'superhero',\n",
              " 'character',\n",
              " ',',\n",
              " 'this',\n",
              " 'is',\n",
              " 'a',\n",
              " 'story',\n",
              " 'of',\n",
              " 'Peter',\n",
              " 'Parker',\n",
              " 'who',\n",
              " 'is',\n",
              " 'a',\n",
              " 'nerdy',\n",
              " 'high-schooler',\n",
              " '.',\n",
              " 'He',\n",
              " 'was',\n",
              " 'orphaned',\n",
              " 'as',\n",
              " 'a',\n",
              " 'child',\n",
              " ',',\n",
              " 'bullied',\n",
              " 'by',\n",
              " 'jocks',\n",
              " ',',\n",
              " 'and',\n",
              " 'ca',\n",
              " \"n't\",\n",
              " 'confess',\n",
              " 'his',\n",
              " 'crush',\n",
              " 'for',\n",
              " 'his',\n",
              " 'stunning',\n",
              " 'neighborhood',\n",
              " 'girl',\n",
              " 'Mary',\n",
              " 'Jane',\n",
              " 'Watson',\n",
              " '.',\n",
              " 'To',\n",
              " 'say',\n",
              " 'his',\n",
              " 'life',\n",
              " 'is',\n",
              " '``',\n",
              " 'miserable',\n",
              " \"''\",\n",
              " 'is',\n",
              " 'an',\n",
              " 'understatement',\n",
              " '.',\n",
              " 'But',\n",
              " 'one',\n",
              " 'day',\n",
              " 'while',\n",
              " 'on',\n",
              " 'an',\n",
              " 'excursion',\n",
              " 'to',\n",
              " 'a',\n",
              " 'laboratory',\n",
              " 'a',\n",
              " 'runaway',\n",
              " 'radioactive',\n",
              " 'spider',\n",
              " 'bites',\n",
              " 'him',\n",
              " '...',\n",
              " 'and',\n",
              " 'his',\n",
              " 'life',\n",
              " 'changes',\n",
              " 'in',\n",
              " 'a',\n",
              " 'way',\n",
              " 'no',\n",
              " 'one',\n",
              " 'could',\n",
              " 'have',\n",
              " 'imagined',\n",
              " '.',\n",
              " 'Peter',\n",
              " 'acquires',\n",
              " 'a',\n",
              " 'muscle-bound',\n",
              " 'physique',\n",
              " ',',\n",
              " 'clear',\n",
              " 'vision',\n",
              " ',',\n",
              " 'ability',\n",
              " 'to',\n",
              " 'cling',\n",
              " 'to',\n",
              " 'surfaces',\n",
              " 'and',\n",
              " 'crawl',\n",
              " 'over',\n",
              " 'walls',\n",
              " ',',\n",
              " 'shooting',\n",
              " 'webs',\n",
              " 'from',\n",
              " 'his',\n",
              " 'wrist',\n",
              " '...',\n",
              " 'but',\n",
              " 'the',\n",
              " 'fun',\n",
              " 'is',\n",
              " \"n't\",\n",
              " 'going',\n",
              " 'to',\n",
              " 'last',\n",
              " '.',\n",
              " 'An',\n",
              " 'eccentric',\n",
              " 'millionaire',\n",
              " 'Norman',\n",
              " 'Osborn',\n",
              " 'administers',\n",
              " 'a',\n",
              " 'performance',\n",
              " 'enhancing',\n",
              " 'drug',\n",
              " 'on',\n",
              " 'himself',\n",
              " 'and',\n",
              " 'his',\n",
              " 'maniacal',\n",
              " 'alter',\n",
              " 'ego',\n",
              " 'Green',\n",
              " 'Goblin',\n",
              " 'emerges',\n",
              " '.',\n",
              " 'Now',\n",
              " 'Peter',\n",
              " 'Parker',\n",
              " 'has',\n",
              " 'to',\n",
              " 'become',\n",
              " 'Spider-Man',\n",
              " 'and',\n",
              " 'take',\n",
              " 'Green',\n",
              " 'Goblin',\n",
              " 'to',\n",
              " 'the',\n",
              " 'task',\n",
              " '...',\n",
              " 'or',\n",
              " 'else',\n",
              " 'Goblin',\n",
              " 'will',\n",
              " 'kill',\n",
              " 'him',\n",
              " '.',\n",
              " 'They',\n",
              " 'come',\n",
              " 'face',\n",
              " 'to',\n",
              " 'face',\n",
              " 'and',\n",
              " 'the',\n",
              " 'war',\n",
              " 'begins',\n",
              " 'in',\n",
              " 'which',\n",
              " 'only',\n",
              " 'one',\n",
              " 'of',\n",
              " 'them',\n",
              " 'will',\n",
              " 'survive',\n",
              " 'at',\n",
              " 'the',\n",
              " 'end',\n",
              " '.']"
            ]
          },
          "metadata": {},
          "execution_count": 142
        }
      ]
    },
    {
      "cell_type": "markdown",
      "metadata": {
        "id": "_WvS37--5Ibp"
      },
      "source": [
        "# Tokenization\n"
      ]
    },
    {
      "cell_type": "code",
      "metadata": {
        "id": "UF4m-Ice0j5B"
      },
      "source": [
        "from nltk.stem import PorterStemmer\n",
        "from nltk.corpus import stopwords"
      ],
      "execution_count": 143,
      "outputs": []
    },
    {
      "cell_type": "code",
      "metadata": {
        "id": "4xDfQeO12sic"
      },
      "source": [
        "tokensentences = nltk.sent_tokenize(paragraph)\n",
        "stemmer = PorterStemmer()\n",
        "\n",
        "# Stemming\n",
        "for i in range(len(sentences)):\n",
        "    words = nltk.word_tokenize(tokensentences[i])\n",
        "    tokenstopwords = [stemmer.stem(word) for word in words if word not in set(stopwords.words('english'))]\n",
        "    tokensentences[i] = ' '.join(tokenstopwords)   \n",
        "    "
      ],
      "execution_count": 144,
      "outputs": []
    },
    {
      "cell_type": "code",
      "metadata": {
        "colab": {
          "base_uri": "https://localhost:8080/"
        },
        "id": "XAVJ5rEp2zYa",
        "outputId": "f8e4643d-ccd8-4bf0-ba43-f58dd5fae6a7"
      },
      "source": [
        "tokenstopwords"
      ],
      "execution_count": 145,
      "outputs": [
        {
          "output_type": "execute_result",
          "data": {
            "text/plain": [
              "['they', 'come', 'face', 'face', 'war', 'begin', 'one', 'surviv', 'end', '.']"
            ]
          },
          "metadata": {},
          "execution_count": 145
        }
      ]
    },
    {
      "cell_type": "code",
      "metadata": {
        "colab": {
          "base_uri": "https://localhost:8080/"
        },
        "id": "WX_tHp6b3x8Z",
        "outputId": "b089092c-e846-47ef-e123-e9c76ee8151f"
      },
      "source": [
        "sentences"
      ],
      "execution_count": 146,
      "outputs": [
        {
          "output_type": "execute_result",
          "data": {
            "text/plain": [
              "[\" Based on Marvel Comics' superhero character, this is a story of Peter Parker who is a nerdy high-schooler.\",\n",
              " \"He was orphaned as a child, bullied by jocks, and can't confess his crush for his stunning neighborhood girl Mary Jane Watson.\",\n",
              " 'To say his life is \"miserable\" is an understatement.',\n",
              " 'But one day while on an excursion to a laboratory a runaway radioactive spider bites him... and his life changes in a way no one could have imagined.',\n",
              " \"Peter acquires a muscle-bound physique, clear vision, ability to cling to surfaces and crawl over walls, shooting webs from his wrist ... but the fun isn't going to last.\",\n",
              " 'An eccentric millionaire Norman Osborn administers a performance enhancing drug on himself and his maniacal alter ego Green Goblin emerges.',\n",
              " 'Now Peter Parker has to become Spider-Man and take Green Goblin to the task... or else Goblin will kill him.',\n",
              " 'They come face to face and the war begins in which only one of them will survive at the end.']"
            ]
          },
          "metadata": {},
          "execution_count": 146
        }
      ]
    },
    {
      "cell_type": "code",
      "metadata": {
        "colab": {
          "base_uri": "https://localhost:8080/"
        },
        "id": "8kn3aIzF3a5J",
        "outputId": "d7a40f85-ba8b-4518-a1fe-5a8fcd871611"
      },
      "source": [
        "tokensentences"
      ],
      "execution_count": 147,
      "outputs": [
        {
          "output_type": "execute_result",
          "data": {
            "text/plain": [
              "[\"base marvel comic ' superhero charact , stori peter parker nerdi high-school .\",\n",
              " \"He orphan child , bulli jock , ca n't confess crush stun neighborhood girl mari jane watson .\",\n",
              " \"To say life `` miser '' understat .\",\n",
              " 'but one day excurs laboratori runaway radioact spider bite ... life chang way one could imagin .',\n",
              " \"peter acquir muscle-bound physiqu , clear vision , abil cling surfac crawl wall , shoot web wrist ... fun n't go last .\",\n",
              " 'An eccentr millionair norman osborn administ perform enhanc drug maniac alter ego green goblin emerg .',\n",
              " 'now peter parker becom spider-man take green goblin task ... els goblin kill .',\n",
              " 'they come face face war begin one surviv end .']"
            ]
          },
          "metadata": {},
          "execution_count": 147
        }
      ]
    },
    {
      "cell_type": "code",
      "metadata": {
        "id": "PkeR2M3o4_Xo"
      },
      "source": [
        ""
      ],
      "execution_count": 147,
      "outputs": []
    },
    {
      "cell_type": "markdown",
      "metadata": {
        "id": "QfbTPWcb5AG5"
      },
      "source": [
        "# Lemmatization\n"
      ]
    },
    {
      "cell_type": "code",
      "metadata": {
        "id": "CoYOTve84omS"
      },
      "source": [
        "from nltk.stem import WordNetLemmatizer\n",
        "lemmatizer = WordNetLemmatizer()\n",
        "lemmasentences=sentences\n",
        "\n",
        "for i in range(0,len(sentences)):\n",
        "    words = nltk.word_tokenize(sentences[i])\n",
        "    lemmawords = [lemmatizer.lemmatize(word) for word in words if word not in set(stopwords.words('english'))]\n",
        "    lemmasentences[i] = ' '.join(lemmawords)   "
      ],
      "execution_count": 148,
      "outputs": []
    },
    {
      "cell_type": "code",
      "metadata": {
        "colab": {
          "base_uri": "https://localhost:8080/"
        },
        "id": "hbYFx_MQ5rVw",
        "outputId": "b5e4daf5-588a-40a5-a022-826a845fc453"
      },
      "source": [
        "tokenwords"
      ],
      "execution_count": 149,
      "outputs": [
        {
          "output_type": "execute_result",
          "data": {
            "text/plain": [
              "['they', 'come', 'face', 'face', 'war', 'begin', 'one', 'surviv', 'end', '.']"
            ]
          },
          "metadata": {},
          "execution_count": 149
        }
      ]
    },
    {
      "cell_type": "code",
      "metadata": {
        "colab": {
          "base_uri": "https://localhost:8080/"
        },
        "id": "N4fq9PBw5oyH",
        "outputId": "96525780-bb02-4a39-e6d6-9ae9a3129e61"
      },
      "source": [
        "lemmawords"
      ],
      "execution_count": 150,
      "outputs": [
        {
          "output_type": "execute_result",
          "data": {
            "text/plain": [
              "['They', 'come', 'face', 'face', 'war', 'begin', 'one', 'survive', 'end', '.']"
            ]
          },
          "metadata": {},
          "execution_count": 150
        }
      ]
    },
    {
      "cell_type": "code",
      "metadata": {
        "colab": {
          "base_uri": "https://localhost:8080/"
        },
        "id": "HFh1xWYu584o",
        "outputId": "956e0d70-8504-4849-ac06-cb02127e09d5"
      },
      "source": [
        "tokensentences"
      ],
      "execution_count": 151,
      "outputs": [
        {
          "output_type": "execute_result",
          "data": {
            "text/plain": [
              "[\"base marvel comic ' superhero charact , stori peter parker nerdi high-school .\",\n",
              " \"He orphan child , bulli jock , ca n't confess crush stun neighborhood girl mari jane watson .\",\n",
              " \"To say life `` miser '' understat .\",\n",
              " 'but one day excurs laboratori runaway radioact spider bite ... life chang way one could imagin .',\n",
              " \"peter acquir muscle-bound physiqu , clear vision , abil cling surfac crawl wall , shoot web wrist ... fun n't go last .\",\n",
              " 'An eccentr millionair norman osborn administ perform enhanc drug maniac alter ego green goblin emerg .',\n",
              " 'now peter parker becom spider-man take green goblin task ... els goblin kill .',\n",
              " 'they come face face war begin one surviv end .']"
            ]
          },
          "metadata": {},
          "execution_count": 151
        }
      ]
    },
    {
      "cell_type": "code",
      "metadata": {
        "colab": {
          "base_uri": "https://localhost:8080/"
        },
        "id": "XWF8VXMQ5kdw",
        "outputId": "99f3f027-23f0-473b-b5a7-efe49d8819ec"
      },
      "source": [
        "lemmasentences"
      ],
      "execution_count": 152,
      "outputs": [
        {
          "output_type": "execute_result",
          "data": {
            "text/plain": [
              "[\"Based Marvel Comics ' superhero character , story Peter Parker nerdy high-schooler .\",\n",
              " \"He orphaned child , bullied jock , ca n't confess crush stunning neighborhood girl Mary Jane Watson .\",\n",
              " \"To say life `` miserable '' understatement .\",\n",
              " 'But one day excursion laboratory runaway radioactive spider bite ... life change way one could imagined .',\n",
              " \"Peter acquires muscle-bound physique , clear vision , ability cling surface crawl wall , shooting web wrist ... fun n't going last .\",\n",
              " 'An eccentric millionaire Norman Osborn administers performance enhancing drug maniacal alter ego Green Goblin emerges .',\n",
              " 'Now Peter Parker become Spider-Man take Green Goblin task ... else Goblin kill .',\n",
              " 'They come face face war begin one survive end .']"
            ]
          },
          "metadata": {},
          "execution_count": 152
        }
      ]
    },
    {
      "cell_type": "markdown",
      "metadata": {
        "id": "MPOj2CEjOy5O"
      },
      "source": [
        "# BOW\n"
      ]
    },
    {
      "cell_type": "code",
      "metadata": {
        "id": "d2G0mN7oRNNS"
      },
      "source": [
        "#using stemming\n",
        "import re\n",
        "ps = PorterStemmer()\n",
        "wordnet=WordNetLemmatizer()\n",
        "sentences = nltk.sent_tokenize(paragraph)\n",
        "corpus = []\n",
        "for i in range(len(sentences)):\n",
        "    review = re.sub('[^a-zA-Z]', ' ', sentences[i])\n",
        "    review = review.lower()\n",
        "    review = review.split()\n",
        "    review = [ps.stem(word) for word in review if not word in set(stopwords.words('english'))]\n",
        "    #review = [wordnet.lemmatize(word) for word in review if not word in set(stopwords.words('english'))]\n",
        "    review = ' '.join(review)\n",
        "    corpus.append(review)\n",
        "    \n",
        "# Creating the Bag of Words model\n",
        "from sklearn.feature_extraction.text import CountVectorizer\n",
        "cv = CountVectorizer(max_features = 1500)\n",
        "X = cv.fit_transform(corpus).toarray()\n"
      ],
      "execution_count": 153,
      "outputs": []
    },
    {
      "cell_type": "code",
      "metadata": {
        "colab": {
          "base_uri": "https://localhost:8080/"
        },
        "id": "CD6UlIo6RNNS",
        "outputId": "5537702e-38e3-4127-8061-910150365b48"
      },
      "source": [
        "corpus"
      ],
      "execution_count": 154,
      "outputs": [
        {
          "output_type": "execute_result",
          "data": {
            "text/plain": [
              "['base marvel comic superhero charact stori peter parker nerdi high schooler',\n",
              " 'orphan child bulli jock confess crush stun neighborhood girl mari jane watson',\n",
              " 'say life miser understat',\n",
              " 'one day excurs laboratori runaway radioact spider bite life chang way one could imagin',\n",
              " 'peter acquir muscl bound physiqu clear vision abil cling surfac crawl wall shoot web wrist fun go last',\n",
              " 'eccentr millionair norman osborn administ perform enhanc drug maniac alter ego green goblin emerg',\n",
              " 'peter parker becom spider man take green goblin task els goblin kill',\n",
              " 'come face face war begin one surviv end']"
            ]
          },
          "metadata": {},
          "execution_count": 154
        }
      ]
    },
    {
      "cell_type": "code",
      "metadata": {
        "colab": {
          "base_uri": "https://localhost:8080/"
        },
        "id": "IQbsPrZjRNNT",
        "outputId": "e4129dd8-7042-48f5-f8ff-996aebfec943"
      },
      "source": [
        "X"
      ],
      "execution_count": 155,
      "outputs": [
        {
          "output_type": "execute_result",
          "data": {
            "text/plain": [
              "array([[0, 0, 0, 0, 1, 0, 0, 0, 0, 0, 0, 1, 0, 0, 0, 0, 1, 0, 0, 0, 0, 0,\n",
              "        0, 0, 0, 0, 0, 0, 0, 0, 0, 0, 0, 0, 0, 0, 1, 0, 0, 0, 0, 0, 0, 0,\n",
              "        0, 0, 0, 1, 0, 0, 0, 0, 1, 0, 0, 0, 0, 1, 0, 1, 0, 0, 0, 0, 1, 0,\n",
              "        0, 1, 0, 1, 0, 0, 0, 0, 0, 0, 0, 0, 0, 0, 0, 0],\n",
              "       [0, 0, 0, 0, 0, 0, 0, 0, 0, 1, 0, 0, 1, 0, 0, 0, 0, 1, 0, 0, 1, 0,\n",
              "        0, 0, 0, 0, 0, 0, 0, 0, 0, 0, 1, 0, 0, 0, 0, 0, 1, 1, 0, 0, 0, 0,\n",
              "        0, 0, 1, 0, 0, 0, 0, 1, 0, 0, 0, 1, 0, 0, 0, 0, 0, 0, 0, 0, 0, 0,\n",
              "        0, 0, 1, 0, 0, 0, 0, 0, 0, 0, 0, 0, 1, 0, 0, 0],\n",
              "       [0, 0, 0, 0, 0, 0, 0, 0, 0, 0, 0, 0, 0, 0, 0, 0, 0, 0, 0, 0, 0, 0,\n",
              "        0, 0, 0, 0, 0, 0, 0, 0, 0, 0, 0, 0, 0, 0, 0, 0, 0, 0, 0, 0, 0, 1,\n",
              "        0, 0, 0, 0, 0, 1, 0, 0, 0, 0, 0, 0, 0, 0, 0, 0, 0, 0, 0, 1, 0, 0,\n",
              "        0, 0, 0, 0, 0, 0, 0, 0, 1, 0, 0, 0, 0, 0, 0, 0],\n",
              "       [0, 0, 0, 0, 0, 0, 0, 1, 0, 0, 1, 0, 0, 0, 0, 0, 0, 0, 1, 0, 0, 1,\n",
              "        0, 0, 0, 0, 0, 0, 0, 1, 0, 0, 0, 0, 0, 0, 0, 1, 0, 0, 0, 1, 0, 1,\n",
              "        0, 0, 0, 0, 0, 0, 0, 0, 0, 0, 2, 0, 0, 0, 0, 0, 0, 1, 1, 0, 0, 0,\n",
              "        1, 0, 0, 0, 0, 0, 0, 0, 0, 0, 0, 0, 0, 1, 0, 0],\n",
              "       [1, 1, 0, 0, 0, 0, 0, 0, 1, 0, 0, 0, 0, 1, 1, 0, 0, 0, 0, 1, 0, 0,\n",
              "        0, 0, 0, 0, 0, 0, 0, 0, 0, 1, 0, 1, 0, 0, 0, 0, 0, 0, 0, 0, 1, 0,\n",
              "        0, 0, 0, 0, 0, 0, 1, 0, 0, 0, 0, 0, 0, 0, 0, 1, 1, 0, 0, 0, 0, 1,\n",
              "        0, 0, 0, 0, 1, 0, 0, 0, 0, 1, 1, 0, 0, 0, 1, 1],\n",
              "       [0, 0, 1, 1, 0, 0, 0, 0, 0, 0, 0, 0, 0, 0, 0, 0, 0, 0, 0, 0, 0, 0,\n",
              "        1, 1, 1, 0, 1, 0, 1, 0, 0, 0, 0, 0, 1, 1, 0, 0, 0, 0, 0, 0, 0, 0,\n",
              "        0, 1, 0, 0, 1, 0, 0, 0, 0, 1, 0, 0, 1, 0, 1, 0, 0, 0, 0, 0, 0, 0,\n",
              "        0, 0, 0, 0, 0, 0, 0, 0, 0, 0, 0, 0, 0, 0, 0, 0],\n",
              "       [0, 0, 0, 0, 0, 1, 0, 0, 0, 0, 0, 0, 0, 0, 0, 0, 0, 0, 0, 0, 0, 0,\n",
              "        0, 0, 0, 1, 0, 0, 0, 0, 0, 0, 0, 0, 2, 1, 0, 0, 0, 0, 1, 0, 0, 0,\n",
              "        1, 0, 0, 0, 0, 0, 0, 0, 0, 0, 0, 0, 0, 1, 0, 1, 0, 0, 0, 0, 0, 0,\n",
              "        1, 0, 0, 0, 0, 0, 1, 1, 0, 0, 0, 0, 0, 0, 0, 0],\n",
              "       [0, 0, 0, 0, 0, 0, 1, 0, 0, 0, 0, 0, 0, 0, 0, 1, 0, 0, 0, 0, 0, 0,\n",
              "        0, 0, 0, 0, 0, 1, 0, 0, 2, 0, 0, 0, 0, 0, 0, 0, 0, 0, 0, 0, 0, 0,\n",
              "        0, 0, 0, 0, 0, 0, 0, 0, 0, 0, 1, 0, 0, 0, 0, 0, 0, 0, 0, 0, 0, 0,\n",
              "        0, 0, 0, 0, 0, 1, 0, 0, 0, 0, 0, 1, 0, 0, 0, 0]])"
            ]
          },
          "metadata": {},
          "execution_count": 155
        }
      ]
    },
    {
      "cell_type": "code",
      "metadata": {
        "id": "g1518qkKO0z6"
      },
      "source": [
        "#using lemmatization\n",
        "import re\n",
        "ps = PorterStemmer()\n",
        "wordnet=WordNetLemmatizer()\n",
        "sentences = nltk.sent_tokenize(paragraph)\n",
        "corpus = []\n",
        "for i in range(len(sentences)):\n",
        "    review = re.sub('[^a-zA-Z]', ' ', sentences[i])\n",
        "    review = review.lower()\n",
        "    review = review.split()\n",
        "    #review = [ps.stem(word) for word in review if not word in set(stopwords.words('english'))]\n",
        "    review = [wordnet.lemmatize(word) for word in review if not word in set(stopwords.words('english'))]\n",
        "    review = ' '.join(review)\n",
        "    corpus.append(review)\n",
        "    \n",
        "# Creating the Bag of Words model\n",
        "from sklearn.feature_extraction.text import CountVectorizer\n",
        "cv = CountVectorizer(max_features = 1500)\n",
        "X = cv.fit_transform(corpus).toarray()\n"
      ],
      "execution_count": 156,
      "outputs": []
    },
    {
      "cell_type": "code",
      "metadata": {
        "colab": {
          "base_uri": "https://localhost:8080/"
        },
        "id": "8ndIn10aPIVY",
        "outputId": "c5fe1295-75c2-4a8b-b699-c77d29a53329"
      },
      "source": [
        "corpus"
      ],
      "execution_count": 157,
      "outputs": [
        {
          "output_type": "execute_result",
          "data": {
            "text/plain": [
              "['based marvel comic superhero character story peter parker nerdy high schooler',\n",
              " 'orphaned child bullied jock confess crush stunning neighborhood girl mary jane watson',\n",
              " 'say life miserable understatement',\n",
              " 'one day excursion laboratory runaway radioactive spider bite life change way one could imagined',\n",
              " 'peter acquires muscle bound physique clear vision ability cling surface crawl wall shooting web wrist fun going last',\n",
              " 'eccentric millionaire norman osborn administers performance enhancing drug maniacal alter ego green goblin emerges',\n",
              " 'peter parker become spider man take green goblin task else goblin kill',\n",
              " 'come face face war begin one survive end']"
            ]
          },
          "metadata": {},
          "execution_count": 157
        }
      ]
    },
    {
      "cell_type": "code",
      "metadata": {
        "colab": {
          "base_uri": "https://localhost:8080/"
        },
        "id": "Y9oCWAoRPL1Y",
        "outputId": "1adba57c-78b1-432c-ff54-28e6a0d45096"
      },
      "source": [
        "len(X[1])"
      ],
      "execution_count": 158,
      "outputs": [
        {
          "output_type": "execute_result",
          "data": {
            "text/plain": [
              "82"
            ]
          },
          "metadata": {},
          "execution_count": 158
        }
      ]
    },
    {
      "cell_type": "markdown",
      "metadata": {
        "id": "1fQPP3NGUFHC"
      },
      "source": [
        "# TD-IDF"
      ]
    },
    {
      "cell_type": "code",
      "metadata": {
        "id": "QYdRRzRCTPqo"
      },
      "source": [
        "sentences = nltk.sent_tokenize(paragraph)\n",
        "corpus = []\n",
        "for i in range(len(sentences)):\n",
        "    review = re.sub('[^a-zA-Z]', ' ', sentences[i])\n",
        "    review = review.lower()\n",
        "    review = review.split()\n",
        "    review = [wordnet.lemmatize(word) for word in review if not word in set(stopwords.words('english'))]\n",
        "    review = ' '.join(review)\n",
        "    corpus.append(review)\n",
        "    \n",
        "# Creating the TF-IDF model\n",
        "from sklearn.feature_extraction.text import TfidfVectorizer\n",
        "cv = TfidfVectorizer()\n",
        "X = cv.fit_transform(corpus).toarray()"
      ],
      "execution_count": 159,
      "outputs": []
    },
    {
      "cell_type": "code",
      "metadata": {
        "colab": {
          "base_uri": "https://localhost:8080/"
        },
        "id": "utMlUgxjTdca",
        "outputId": "52f396c0-2540-48c1-c2d3-5c019a436505"
      },
      "source": [
        "X"
      ],
      "execution_count": 160,
      "outputs": [
        {
          "output_type": "execute_result",
          "data": {
            "text/plain": [
              "array([[0.        , 0.        , 0.        , 0.        , 0.31272329,\n",
              "        0.        , 0.        , 0.        , 0.        , 0.        ,\n",
              "        0.        , 0.31272329, 0.        , 0.        , 0.        ,\n",
              "        0.        , 0.31272329, 0.        , 0.        , 0.        ,\n",
              "        0.        , 0.        , 0.        , 0.        , 0.        ,\n",
              "        0.        , 0.        , 0.        , 0.        , 0.        ,\n",
              "        0.        , 0.        , 0.        , 0.        , 0.        ,\n",
              "        0.        , 0.31272329, 0.        , 0.        , 0.        ,\n",
              "        0.        , 0.        , 0.        , 0.        , 0.        ,\n",
              "        0.        , 0.31272329, 0.        , 0.        , 0.        ,\n",
              "        0.        , 0.        , 0.31272329, 0.        , 0.        ,\n",
              "        0.        , 0.        , 0.26208652, 0.        , 0.22615916,\n",
              "        0.        , 0.        , 0.        , 0.        , 0.31272329,\n",
              "        0.        , 0.        , 0.31272329, 0.        , 0.31272329,\n",
              "        0.        , 0.        , 0.        , 0.        , 0.        ,\n",
              "        0.        , 0.        , 0.        , 0.        , 0.        ,\n",
              "        0.        , 0.        ],\n",
              "       [0.        , 0.        , 0.        , 0.        , 0.        ,\n",
              "        0.        , 0.        , 0.        , 0.        , 0.28867513,\n",
              "        0.        , 0.        , 0.28867513, 0.        , 0.        ,\n",
              "        0.        , 0.        , 0.28867513, 0.        , 0.        ,\n",
              "        0.28867513, 0.        , 0.        , 0.        , 0.        ,\n",
              "        0.        , 0.        , 0.        , 0.        , 0.        ,\n",
              "        0.        , 0.        , 0.28867513, 0.        , 0.        ,\n",
              "        0.        , 0.        , 0.        , 0.28867513, 0.28867513,\n",
              "        0.        , 0.        , 0.        , 0.        , 0.        ,\n",
              "        0.        , 0.        , 0.28867513, 0.        , 0.        ,\n",
              "        0.        , 0.28867513, 0.        , 0.        , 0.        ,\n",
              "        0.28867513, 0.        , 0.        , 0.        , 0.        ,\n",
              "        0.        , 0.        , 0.        , 0.        , 0.        ,\n",
              "        0.        , 0.        , 0.        , 0.28867513, 0.        ,\n",
              "        0.        , 0.        , 0.        , 0.        , 0.        ,\n",
              "        0.        , 0.        , 0.        , 0.28867513, 0.        ,\n",
              "        0.        , 0.        ],\n",
              "       [0.        , 0.        , 0.        , 0.        , 0.        ,\n",
              "        0.        , 0.        , 0.        , 0.        , 0.        ,\n",
              "        0.        , 0.        , 0.        , 0.        , 0.        ,\n",
              "        0.        , 0.        , 0.        , 0.        , 0.        ,\n",
              "        0.        , 0.        , 0.        , 0.        , 0.        ,\n",
              "        0.        , 0.        , 0.        , 0.        , 0.        ,\n",
              "        0.        , 0.        , 0.        , 0.        , 0.        ,\n",
              "        0.        , 0.        , 0.        , 0.        , 0.        ,\n",
              "        0.        , 0.        , 0.        , 0.43555627, 0.        ,\n",
              "        0.        , 0.        , 0.        , 0.        , 0.51970849,\n",
              "        0.        , 0.        , 0.        , 0.        , 0.        ,\n",
              "        0.        , 0.        , 0.        , 0.        , 0.        ,\n",
              "        0.        , 0.        , 0.        , 0.51970849, 0.        ,\n",
              "        0.        , 0.        , 0.        , 0.        , 0.        ,\n",
              "        0.        , 0.        , 0.        , 0.        , 0.51970849,\n",
              "        0.        , 0.        , 0.        , 0.        , 0.        ,\n",
              "        0.        , 0.        ],\n",
              "       [0.        , 0.        , 0.        , 0.        , 0.        ,\n",
              "        0.        , 0.        , 0.2652394 , 0.        , 0.        ,\n",
              "        0.2652394 , 0.        , 0.        , 0.        , 0.        ,\n",
              "        0.        , 0.        , 0.        , 0.2652394 , 0.        ,\n",
              "        0.        , 0.2652394 , 0.        , 0.        , 0.        ,\n",
              "        0.        , 0.        , 0.        , 0.        , 0.2652394 ,\n",
              "        0.        , 0.        , 0.        , 0.        , 0.        ,\n",
              "        0.        , 0.        , 0.2652394 , 0.        , 0.        ,\n",
              "        0.        , 0.2652394 , 0.        , 0.22229132, 0.        ,\n",
              "        0.        , 0.        , 0.        , 0.        , 0.        ,\n",
              "        0.        , 0.        , 0.        , 0.        , 0.44458264,\n",
              "        0.        , 0.        , 0.        , 0.        , 0.        ,\n",
              "        0.        , 0.2652394 , 0.2652394 , 0.        , 0.        ,\n",
              "        0.        , 0.22229132, 0.        , 0.        , 0.        ,\n",
              "        0.        , 0.        , 0.        , 0.        , 0.        ,\n",
              "        0.        , 0.        , 0.        , 0.        , 0.2652394 ,\n",
              "        0.        , 0.        ],\n",
              "       [0.23888874, 0.23888874, 0.        , 0.        , 0.        ,\n",
              "        0.        , 0.        , 0.        , 0.23888874, 0.        ,\n",
              "        0.        , 0.        , 0.        , 0.23888874, 0.23888874,\n",
              "        0.        , 0.        , 0.        , 0.        , 0.23888874,\n",
              "        0.        , 0.        , 0.        , 0.        , 0.        ,\n",
              "        0.        , 0.        , 0.        , 0.        , 0.        ,\n",
              "        0.        , 0.23888874, 0.        , 0.        , 0.23888874,\n",
              "        0.        , 0.        , 0.        , 0.        , 0.        ,\n",
              "        0.        , 0.        , 0.23888874, 0.        , 0.        ,\n",
              "        0.        , 0.        , 0.        , 0.        , 0.        ,\n",
              "        0.23888874, 0.        , 0.        , 0.        , 0.        ,\n",
              "        0.        , 0.        , 0.        , 0.        , 0.17276257,\n",
              "        0.23888874, 0.        , 0.        , 0.        , 0.        ,\n",
              "        0.23888874, 0.        , 0.        , 0.        , 0.        ,\n",
              "        0.23888874, 0.        , 0.        , 0.        , 0.        ,\n",
              "        0.23888874, 0.23888874, 0.        , 0.        , 0.        ,\n",
              "        0.23888874, 0.23888874],\n",
              "       [0.        , 0.        , 0.27313078, 0.27313078, 0.        ,\n",
              "        0.        , 0.        , 0.        , 0.        , 0.        ,\n",
              "        0.        , 0.        , 0.        , 0.        , 0.        ,\n",
              "        0.        , 0.        , 0.        , 0.        , 0.        ,\n",
              "        0.        , 0.        , 0.27313078, 0.27313078, 0.27313078,\n",
              "        0.        , 0.27313078, 0.        , 0.27313078, 0.        ,\n",
              "        0.        , 0.        , 0.        , 0.22890491, 0.        ,\n",
              "        0.22890491, 0.        , 0.        , 0.        , 0.        ,\n",
              "        0.        , 0.        , 0.        , 0.        , 0.        ,\n",
              "        0.27313078, 0.        , 0.        , 0.27313078, 0.        ,\n",
              "        0.        , 0.        , 0.        , 0.27313078, 0.        ,\n",
              "        0.        , 0.27313078, 0.        , 0.27313078, 0.        ,\n",
              "        0.        , 0.        , 0.        , 0.        , 0.        ,\n",
              "        0.        , 0.        , 0.        , 0.        , 0.        ,\n",
              "        0.        , 0.        , 0.        , 0.        , 0.        ,\n",
              "        0.        , 0.        , 0.        , 0.        , 0.        ,\n",
              "        0.        , 0.        ],\n",
              "       [0.        , 0.        , 0.        , 0.        , 0.        ,\n",
              "        0.29566096, 0.        , 0.        , 0.        , 0.        ,\n",
              "        0.        , 0.        , 0.        , 0.        , 0.        ,\n",
              "        0.        , 0.        , 0.        , 0.        , 0.        ,\n",
              "        0.        , 0.        , 0.        , 0.        , 0.        ,\n",
              "        0.29566096, 0.        , 0.        , 0.        , 0.        ,\n",
              "        0.        , 0.        , 0.        , 0.49557393, 0.        ,\n",
              "        0.24778696, 0.        , 0.        , 0.        , 0.        ,\n",
              "        0.29566096, 0.        , 0.        , 0.        , 0.29566096,\n",
              "        0.        , 0.        , 0.        , 0.        , 0.        ,\n",
              "        0.        , 0.        , 0.        , 0.        , 0.        ,\n",
              "        0.        , 0.        , 0.24778696, 0.        , 0.21381982,\n",
              "        0.        , 0.        , 0.        , 0.        , 0.        ,\n",
              "        0.        , 0.24778696, 0.        , 0.        , 0.        ,\n",
              "        0.        , 0.        , 0.29566096, 0.29566096, 0.        ,\n",
              "        0.        , 0.        , 0.        , 0.        , 0.        ,\n",
              "        0.        , 0.        ],\n",
              "       [0.        , 0.        , 0.        , 0.        , 0.        ,\n",
              "        0.        , 0.32104135, 0.        , 0.        , 0.        ,\n",
              "        0.        , 0.        , 0.        , 0.        , 0.        ,\n",
              "        0.32104135, 0.        , 0.        , 0.        , 0.        ,\n",
              "        0.        , 0.        , 0.        , 0.        , 0.        ,\n",
              "        0.        , 0.        , 0.32104135, 0.        , 0.        ,\n",
              "        0.6420827 , 0.        , 0.        , 0.        , 0.        ,\n",
              "        0.        , 0.        , 0.        , 0.        , 0.        ,\n",
              "        0.        , 0.        , 0.        , 0.        , 0.        ,\n",
              "        0.        , 0.        , 0.        , 0.        , 0.        ,\n",
              "        0.        , 0.        , 0.        , 0.        , 0.26905771,\n",
              "        0.        , 0.        , 0.        , 0.        , 0.        ,\n",
              "        0.        , 0.        , 0.        , 0.        , 0.        ,\n",
              "        0.        , 0.        , 0.        , 0.        , 0.        ,\n",
              "        0.        , 0.32104135, 0.        , 0.        , 0.        ,\n",
              "        0.        , 0.        , 0.32104135, 0.        , 0.        ,\n",
              "        0.        , 0.        ]])"
            ]
          },
          "metadata": {},
          "execution_count": 160
        }
      ]
    },
    {
      "cell_type": "code",
      "metadata": {
        "id": "p7zkv5upUS_j"
      },
      "source": [
        ""
      ],
      "execution_count": null,
      "outputs": []
    },
    {
      "cell_type": "markdown",
      "metadata": {
        "id": "_-2nTCVcUxoC"
      },
      "source": [
        "# word2vec\n"
      ]
    },
    {
      "cell_type": "code",
      "metadata": {
        "id": "Mywq1YhXVBEQ"
      },
      "source": [
        "from gensim.models import Word2Vec\n",
        "wv=Word2Vec"
      ],
      "execution_count": 164,
      "outputs": []
    },
    {
      "cell_type": "code",
      "metadata": {
        "colab": {
          "base_uri": "https://localhost:8080/",
          "height": 127
        },
        "id": "pGZ5S-xrVSbQ",
        "outputId": "acdfa547-58e5-4987-8bcf-e47f45940cc1"
      },
      "source": [
        "paragraph"
      ],
      "execution_count": 167,
      "outputs": [
        {
          "output_type": "execute_result",
          "data": {
            "application/vnd.google.colaboratory.intrinsic+json": {
              "type": "string"
            },
            "text/plain": [
              "' Based on Marvel Comics\\' superhero character, this is a story of Peter Parker who is a nerdy high-schooler. He was orphaned as a child, bullied by jocks, and can\\'t confess his crush for his stunning neighborhood girl Mary Jane Watson. To say his life is \"miserable\" is an understatement. But one day while on an excursion to a laboratory a runaway radioactive spider bites him... and his life changes in a way no one could have imagined. Peter acquires a muscle-bound physique, clear vision, ability to cling to surfaces and crawl over walls, shooting webs from his wrist ... but the fun isn\\'t going to last. An eccentric millionaire Norman Osborn administers a performance enhancing drug on himself and his maniacal alter ego Green Goblin emerges. Now Peter Parker has to become Spider-Man and take Green Goblin to the task... or else Goblin will kill him. They come face to face and the war begins in which only one of them will survive at the end.'"
            ]
          },
          "metadata": {},
          "execution_count": 167
        }
      ]
    },
    {
      "cell_type": "code",
      "metadata": {
        "colab": {
          "base_uri": "https://localhost:8080/"
        },
        "id": "5bTvawSvU10C",
        "outputId": "65c2de1d-6606-49e7-f1c3-4ebd92b58174"
      },
      "source": [
        "# Preprocessing the data\n",
        "text = re.sub(r'\\[[0-9]*\\]',' ',paragraph)\n",
        "text = re.sub(r'\\s+',' ',text)\n",
        "text = text.lower()\n",
        "text = re.sub(r'\\d',' ',text)\n",
        "text = re.sub(r'\\s+',' ',text)\n",
        "\n",
        "# Preparing the dataset\n",
        "sentences = nltk.sent_tokenize(text)\n",
        "\n",
        "sentences = [nltk.word_tokenize(sentence) for sentence in sentences]\n",
        "\n",
        "for i in range(len(sentences)):\n",
        "    sentences[i] = [word for word in sentences[i] if word not in stopwords.words('english')]\n",
        "    \n",
        "    \n",
        "# Training the Word2Vec model\n",
        "model = Word2Vec(sentences, min_count=1)\n",
        "\n",
        "\n",
        "words = model.wv.vocab\n",
        "print(words)\n",
        "# Finding Word Vectors\n",
        "vector = model.wv['spider']\n",
        "print(vector)\n",
        "# Most similar words\n",
        "similar = model.wv.most_similar('spider')"
      ],
      "execution_count": 176,
      "outputs": [
        {
          "output_type": "stream",
          "name": "stdout",
          "text": [
            "{'based': <gensim.models.keyedvectors.Vocab object at 0x7f0d20c25610>, 'marvel': <gensim.models.keyedvectors.Vocab object at 0x7f0d20c25210>, 'comics': <gensim.models.keyedvectors.Vocab object at 0x7f0d20c25bd0>, \"'\": <gensim.models.keyedvectors.Vocab object at 0x7f0d20c25910>, 'superhero': <gensim.models.keyedvectors.Vocab object at 0x7f0d20c25490>, 'character': <gensim.models.keyedvectors.Vocab object at 0x7f0d20c25850>, ',': <gensim.models.keyedvectors.Vocab object at 0x7f0d20c256d0>, 'story': <gensim.models.keyedvectors.Vocab object at 0x7f0d20c25510>, 'peter': <gensim.models.keyedvectors.Vocab object at 0x7f0d20c258d0>, 'parker': <gensim.models.keyedvectors.Vocab object at 0x7f0d20c25f10>, 'nerdy': <gensim.models.keyedvectors.Vocab object at 0x7f0d20c25ed0>, 'high-schooler': <gensim.models.keyedvectors.Vocab object at 0x7f0d20c25a90>, '.': <gensim.models.keyedvectors.Vocab object at 0x7f0d20c25b50>, 'orphaned': <gensim.models.keyedvectors.Vocab object at 0x7f0d20c259d0>, 'child': <gensim.models.keyedvectors.Vocab object at 0x7f0d20c25890>, 'bullied': <gensim.models.keyedvectors.Vocab object at 0x7f0d20cc9150>, 'jocks': <gensim.models.keyedvectors.Vocab object at 0x7f0d20cc9810>, 'ca': <gensim.models.keyedvectors.Vocab object at 0x7f0d20cc9390>, \"n't\": <gensim.models.keyedvectors.Vocab object at 0x7f0d20cc9ed0>, 'confess': <gensim.models.keyedvectors.Vocab object at 0x7f0d20cc9950>, 'crush': <gensim.models.keyedvectors.Vocab object at 0x7f0d20cc9090>, 'stunning': <gensim.models.keyedvectors.Vocab object at 0x7f0d20cc93d0>, 'neighborhood': <gensim.models.keyedvectors.Vocab object at 0x7f0d20cc9410>, 'girl': <gensim.models.keyedvectors.Vocab object at 0x7f0d20cc9190>, 'mary': <gensim.models.keyedvectors.Vocab object at 0x7f0d20cc99d0>, 'jane': <gensim.models.keyedvectors.Vocab object at 0x7f0d20cc94d0>, 'watson': <gensim.models.keyedvectors.Vocab object at 0x7f0d20cc9690>, 'say': <gensim.models.keyedvectors.Vocab object at 0x7f0d20cc9a50>, 'life': <gensim.models.keyedvectors.Vocab object at 0x7f0d20cc9750>, '``': <gensim.models.keyedvectors.Vocab object at 0x7f0d20cc9f50>, 'miserable': <gensim.models.keyedvectors.Vocab object at 0x7f0d20cc9a90>, \"''\": <gensim.models.keyedvectors.Vocab object at 0x7f0d20cc9310>, 'understatement': <gensim.models.keyedvectors.Vocab object at 0x7f0d20cc9550>, 'one': <gensim.models.keyedvectors.Vocab object at 0x7f0d20cc9290>, 'day': <gensim.models.keyedvectors.Vocab object at 0x7f0d20cc9510>, 'excursion': <gensim.models.keyedvectors.Vocab object at 0x7f0d20cc9050>, 'laboratory': <gensim.models.keyedvectors.Vocab object at 0x7f0d20cc9610>, 'runaway': <gensim.models.keyedvectors.Vocab object at 0x7f0d20cc9e90>, 'radioactive': <gensim.models.keyedvectors.Vocab object at 0x7f0d20cc9d10>, 'spider': <gensim.models.keyedvectors.Vocab object at 0x7f0d20cc98d0>, 'bites': <gensim.models.keyedvectors.Vocab object at 0x7f0d20cc9350>, '...': <gensim.models.keyedvectors.Vocab object at 0x7f0d20cc97d0>, 'changes': <gensim.models.keyedvectors.Vocab object at 0x7f0d20cc9250>, 'way': <gensim.models.keyedvectors.Vocab object at 0x7f0d20cc95d0>, 'could': <gensim.models.keyedvectors.Vocab object at 0x7f0d20cc9b90>, 'imagined': <gensim.models.keyedvectors.Vocab object at 0x7f0d20cc9450>, 'acquires': <gensim.models.keyedvectors.Vocab object at 0x7f0d20cc9490>, 'muscle-bound': <gensim.models.keyedvectors.Vocab object at 0x7f0d20cc92d0>, 'physique': <gensim.models.keyedvectors.Vocab object at 0x7f0d20cc9850>, 'clear': <gensim.models.keyedvectors.Vocab object at 0x7f0d20cc9bd0>, 'vision': <gensim.models.keyedvectors.Vocab object at 0x7f0d20cc9790>, 'ability': <gensim.models.keyedvectors.Vocab object at 0x7f0d20cc9b50>, 'cling': <gensim.models.keyedvectors.Vocab object at 0x7f0d20c9ed50>, 'surfaces': <gensim.models.keyedvectors.Vocab object at 0x7f0d20c9e810>, 'crawl': <gensim.models.keyedvectors.Vocab object at 0x7f0d20c9eb50>, 'walls': <gensim.models.keyedvectors.Vocab object at 0x7f0d20c9ec50>, 'shooting': <gensim.models.keyedvectors.Vocab object at 0x7f0d20c9e850>, 'webs': <gensim.models.keyedvectors.Vocab object at 0x7f0d20c9e7d0>, 'wrist': <gensim.models.keyedvectors.Vocab object at 0x7f0d22d0ab10>, 'fun': <gensim.models.keyedvectors.Vocab object at 0x7f0d22d0add0>, 'going': <gensim.models.keyedvectors.Vocab object at 0x7f0d22d0a9d0>, 'last': <gensim.models.keyedvectors.Vocab object at 0x7f0d22d0a210>, 'eccentric': <gensim.models.keyedvectors.Vocab object at 0x7f0d22d0a050>, 'millionaire': <gensim.models.keyedvectors.Vocab object at 0x7f0d22d0af90>, 'norman': <gensim.models.keyedvectors.Vocab object at 0x7f0d22d0a410>, 'osborn': <gensim.models.keyedvectors.Vocab object at 0x7f0d22d0acd0>, 'administers': <gensim.models.keyedvectors.Vocab object at 0x7f0d22d0aa90>, 'performance': <gensim.models.keyedvectors.Vocab object at 0x7f0d22d0ac50>, 'enhancing': <gensim.models.keyedvectors.Vocab object at 0x7f0d22d0a5d0>, 'drug': <gensim.models.keyedvectors.Vocab object at 0x7f0d22d0a8d0>, 'maniacal': <gensim.models.keyedvectors.Vocab object at 0x7f0d22d0a550>, 'alter': <gensim.models.keyedvectors.Vocab object at 0x7f0d22d0a110>, 'ego': <gensim.models.keyedvectors.Vocab object at 0x7f0d22d0aa50>, 'green': <gensim.models.keyedvectors.Vocab object at 0x7f0d2ddc7850>, 'goblin': <gensim.models.keyedvectors.Vocab object at 0x7f0d2ddc76d0>, 'emerges': <gensim.models.keyedvectors.Vocab object at 0x7f0d2ddc7450>, 'become': <gensim.models.keyedvectors.Vocab object at 0x7f0d2ddc7610>, 'spider-man': <gensim.models.keyedvectors.Vocab object at 0x7f0d2ddc7710>, 'take': <gensim.models.keyedvectors.Vocab object at 0x7f0d2ddc7250>, 'task': <gensim.models.keyedvectors.Vocab object at 0x7f0d2ddc7fd0>, 'else': <gensim.models.keyedvectors.Vocab object at 0x7f0d20c93cd0>, 'kill': <gensim.models.keyedvectors.Vocab object at 0x7f0d20c93e50>, 'come': <gensim.models.keyedvectors.Vocab object at 0x7f0d20c93ad0>, 'face': <gensim.models.keyedvectors.Vocab object at 0x7f0d20c931d0>, 'war': <gensim.models.keyedvectors.Vocab object at 0x7f0d20c93a10>, 'begins': <gensim.models.keyedvectors.Vocab object at 0x7f0d20c93f90>, 'survive': <gensim.models.keyedvectors.Vocab object at 0x7f0d20c930d0>, 'end': <gensim.models.keyedvectors.Vocab object at 0x7f0d20c93310>}\n",
            "[-0.00182312  0.00040235 -0.00455392 -0.00434018 -0.001451    0.00318497\n",
            " -0.00092132 -0.0015912  -0.00151026 -0.00380622 -0.00268708  0.00128644\n",
            " -0.00459474 -0.00477382 -0.00480872 -0.00118415 -0.00419183 -0.00343586\n",
            "  0.00435918  0.00016351 -0.00356366  0.0021836  -0.00416207  0.00033425\n",
            " -0.00100428 -0.00475147  0.00010376 -0.00398645 -0.00342221 -0.00081255\n",
            " -0.00358046 -0.00452697 -0.00159247 -0.00397257  0.00175133  0.00236413\n",
            " -0.00079773  0.0033185   0.0026712  -0.0013143   0.00344541  0.00018359\n",
            " -0.00174622 -0.00167782  0.00084858 -0.00043844 -0.0045335  -0.00114898\n",
            " -0.00031622 -0.00193474  0.00411277  0.00419981 -0.00128008 -0.00279432\n",
            " -0.00216144 -0.00443938 -0.00061414  0.00178569  0.00280908 -0.00484425\n",
            " -0.00392397 -0.00430365 -0.0042921   0.00073199 -0.00132437  0.0034123\n",
            " -0.00225065  0.00233507 -0.0016848  -0.00306156  0.00075768  0.00499743\n",
            " -0.00223777  0.00255007 -0.00498286  0.00456032  0.00275104  0.00308787\n",
            " -0.00488862  0.00307061 -0.00194854  0.00111224  0.00193557 -0.00173471\n",
            " -0.00156253 -0.00493559 -0.00356987 -0.00225561 -0.00452592 -0.00267403\n",
            " -0.0031674   0.00250007 -0.00367812 -0.00132176  0.00066626 -0.00296899\n",
            " -0.00184764 -0.00280914  0.00325204  0.00045243]\n"
          ]
        }
      ]
    },
    {
      "cell_type": "code",
      "metadata": {
        "colab": {
          "base_uri": "https://localhost:8080/"
        },
        "id": "kLwx3uMiVXky",
        "outputId": "58b6244a-e310-43fa-86e7-c46f3a6efe4d"
      },
      "source": [
        "similar"
      ],
      "execution_count": 177,
      "outputs": [
        {
          "output_type": "execute_result",
          "data": {
            "text/plain": [
              "[('``', 0.31195998191833496),\n",
              " ('imagined', 0.2040638029575348),\n",
              " ('say', 0.20105955004692078),\n",
              " ('physique', 0.1616295576095581),\n",
              " ('vision', 0.14985859394073486),\n",
              " ('radioactive', 0.14677557349205017),\n",
              " (\"n't\", 0.14090146124362946),\n",
              " ('high-schooler', 0.13259556889533997),\n",
              " ('come', 0.13151727616786957),\n",
              " ('performance', 0.12778854370117188)]"
            ]
          },
          "metadata": {},
          "execution_count": 177
        }
      ]
    },
    {
      "cell_type": "code",
      "metadata": {
        "id": "ZuqRFLABV_16"
      },
      "source": [
        ""
      ],
      "execution_count": null,
      "outputs": []
    }
  ]
}