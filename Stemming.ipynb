{
  "nbformat": 4,
  "nbformat_minor": 0,
  "metadata": {
    "colab": {
      "name": "Untitled13.ipynb",
      "provenance": [],
      "authorship_tag": "ABX9TyMw3SLBJAU6va2JfNDbCjAV",
      "include_colab_link": true
    },
    "kernelspec": {
      "name": "python3",
      "display_name": "Python 3"
    },
    "language_info": {
      "name": "python"
    }
  },
  "cells": [
    {
      "cell_type": "markdown",
      "metadata": {
        "id": "view-in-github",
        "colab_type": "text"
      },
      "source": [
        "<a href=\"https://colab.research.google.com/github/shardul28/Natural-Language-Processing/blob/master/Stemming.ipynb\" target=\"_parent\"><img src=\"https://colab.research.google.com/assets/colab-badge.svg\" alt=\"Open In Colab\"/></a>"
      ]
    },
    {
      "cell_type": "code",
      "metadata": {
        "colab": {
          "base_uri": "https://localhost:8080/"
        },
        "id": "gBL2Yfm7zdxJ",
        "outputId": "bf0bdc29-cca0-4ef8-cb71-525ab9daf01b"
      },
      "source": [
        "import nltk\n",
        "nltk.download('punkt')\n",
        "nltk.download('stopwords')"
      ],
      "execution_count": 43,
      "outputs": [
        {
          "output_type": "stream",
          "name": "stdout",
          "text": [
            "[nltk_data] Downloading package punkt to /root/nltk_data...\n",
            "[nltk_data]   Package punkt is already up-to-date!\n",
            "[nltk_data] Downloading package stopwords to /root/nltk_data...\n",
            "[nltk_data]   Package stopwords is already up-to-date!\n"
          ]
        },
        {
          "output_type": "execute_result",
          "data": {
            "text/plain": [
              "True"
            ]
          },
          "metadata": {},
          "execution_count": 43
        }
      ]
    },
    {
      "cell_type": "code",
      "metadata": {
        "id": "umCmcSuJzg16"
      },
      "source": [
        "paragraph = \"\"\" Based on Marvel Comics' superhero character, this is a story of Peter Parker who is a nerdy high-schooler. He was orphaned as a child, bullied by jocks, and can't confess his crush for his stunning neighborhood girl Mary Jane Watson. To say his life is \"miserable\" is an understatement. But one day while on an excursion to a laboratory a runaway radioactive spider bites him... and his life changes in a way no one could have imagined. Peter acquires a muscle-bound physique, clear vision, ability to cling to surfaces and crawl over walls, shooting webs from his wrist ... but the fun isn't going to last. An eccentric millionaire Norman Osborn administers a performance enhancing drug on himself and his maniacal alter ego Green Goblin emerges. Now Peter Parker has to become Spider-Man and take Green Goblin to the task... or else Goblin will kill him. They come face to face and the war begins in which only one of them will survive at the end.\"\"\""
      ],
      "execution_count": 44,
      "outputs": []
    },
    {
      "cell_type": "code",
      "metadata": {
        "id": "tkfA9NeMz2zZ"
      },
      "source": [
        "# Tokenizing sentences\n",
        "sentences = nltk.sent_tokenize(paragraph)\n",
        "\n",
        "# Tokenizing words\n",
        "words = nltk.word_tokenize(paragraph)"
      ],
      "execution_count": 45,
      "outputs": []
    },
    {
      "cell_type": "code",
      "metadata": {
        "colab": {
          "base_uri": "https://localhost:8080/"
        },
        "id": "Jb7thviG0Dro",
        "outputId": "564f5ed5-d6c2-40a4-c7f5-8048633d6b72"
      },
      "source": [
        "sentences"
      ],
      "execution_count": 46,
      "outputs": [
        {
          "output_type": "execute_result",
          "data": {
            "text/plain": [
              "[\" Based on Marvel Comics' superhero character, this is a story of Peter Parker who is a nerdy high-schooler.\",\n",
              " \"He was orphaned as a child, bullied by jocks, and can't confess his crush for his stunning neighborhood girl Mary Jane Watson.\",\n",
              " 'To say his life is \"miserable\" is an understatement.',\n",
              " 'But one day while on an excursion to a laboratory a runaway radioactive spider bites him... and his life changes in a way no one could have imagined.',\n",
              " \"Peter acquires a muscle-bound physique, clear vision, ability to cling to surfaces and crawl over walls, shooting webs from his wrist ... but the fun isn't going to last.\",\n",
              " 'An eccentric millionaire Norman Osborn administers a performance enhancing drug on himself and his maniacal alter ego Green Goblin emerges.',\n",
              " 'Now Peter Parker has to become Spider-Man and take Green Goblin to the task... or else Goblin will kill him.',\n",
              " 'They come face to face and the war begins in which only one of them will survive at the end.']"
            ]
          },
          "metadata": {},
          "execution_count": 46
        }
      ]
    },
    {
      "cell_type": "code",
      "metadata": {
        "id": "1s1AUzrY0FU5",
        "colab": {
          "base_uri": "https://localhost:8080/"
        },
        "outputId": "af18f560-9bec-42ca-a850-22bbd2f0eeb3"
      },
      "source": [
        "words"
      ],
      "execution_count": 47,
      "outputs": [
        {
          "output_type": "execute_result",
          "data": {
            "text/plain": [
              "['Based',\n",
              " 'on',\n",
              " 'Marvel',\n",
              " 'Comics',\n",
              " \"'\",\n",
              " 'superhero',\n",
              " 'character',\n",
              " ',',\n",
              " 'this',\n",
              " 'is',\n",
              " 'a',\n",
              " 'story',\n",
              " 'of',\n",
              " 'Peter',\n",
              " 'Parker',\n",
              " 'who',\n",
              " 'is',\n",
              " 'a',\n",
              " 'nerdy',\n",
              " 'high-schooler',\n",
              " '.',\n",
              " 'He',\n",
              " 'was',\n",
              " 'orphaned',\n",
              " 'as',\n",
              " 'a',\n",
              " 'child',\n",
              " ',',\n",
              " 'bullied',\n",
              " 'by',\n",
              " 'jocks',\n",
              " ',',\n",
              " 'and',\n",
              " 'ca',\n",
              " \"n't\",\n",
              " 'confess',\n",
              " 'his',\n",
              " 'crush',\n",
              " 'for',\n",
              " 'his',\n",
              " 'stunning',\n",
              " 'neighborhood',\n",
              " 'girl',\n",
              " 'Mary',\n",
              " 'Jane',\n",
              " 'Watson',\n",
              " '.',\n",
              " 'To',\n",
              " 'say',\n",
              " 'his',\n",
              " 'life',\n",
              " 'is',\n",
              " '``',\n",
              " 'miserable',\n",
              " \"''\",\n",
              " 'is',\n",
              " 'an',\n",
              " 'understatement',\n",
              " '.',\n",
              " 'But',\n",
              " 'one',\n",
              " 'day',\n",
              " 'while',\n",
              " 'on',\n",
              " 'an',\n",
              " 'excursion',\n",
              " 'to',\n",
              " 'a',\n",
              " 'laboratory',\n",
              " 'a',\n",
              " 'runaway',\n",
              " 'radioactive',\n",
              " 'spider',\n",
              " 'bites',\n",
              " 'him',\n",
              " '...',\n",
              " 'and',\n",
              " 'his',\n",
              " 'life',\n",
              " 'changes',\n",
              " 'in',\n",
              " 'a',\n",
              " 'way',\n",
              " 'no',\n",
              " 'one',\n",
              " 'could',\n",
              " 'have',\n",
              " 'imagined',\n",
              " '.',\n",
              " 'Peter',\n",
              " 'acquires',\n",
              " 'a',\n",
              " 'muscle-bound',\n",
              " 'physique',\n",
              " ',',\n",
              " 'clear',\n",
              " 'vision',\n",
              " ',',\n",
              " 'ability',\n",
              " 'to',\n",
              " 'cling',\n",
              " 'to',\n",
              " 'surfaces',\n",
              " 'and',\n",
              " 'crawl',\n",
              " 'over',\n",
              " 'walls',\n",
              " ',',\n",
              " 'shooting',\n",
              " 'webs',\n",
              " 'from',\n",
              " 'his',\n",
              " 'wrist',\n",
              " '...',\n",
              " 'but',\n",
              " 'the',\n",
              " 'fun',\n",
              " 'is',\n",
              " \"n't\",\n",
              " 'going',\n",
              " 'to',\n",
              " 'last',\n",
              " '.',\n",
              " 'An',\n",
              " 'eccentric',\n",
              " 'millionaire',\n",
              " 'Norman',\n",
              " 'Osborn',\n",
              " 'administers',\n",
              " 'a',\n",
              " 'performance',\n",
              " 'enhancing',\n",
              " 'drug',\n",
              " 'on',\n",
              " 'himself',\n",
              " 'and',\n",
              " 'his',\n",
              " 'maniacal',\n",
              " 'alter',\n",
              " 'ego',\n",
              " 'Green',\n",
              " 'Goblin',\n",
              " 'emerges',\n",
              " '.',\n",
              " 'Now',\n",
              " 'Peter',\n",
              " 'Parker',\n",
              " 'has',\n",
              " 'to',\n",
              " 'become',\n",
              " 'Spider-Man',\n",
              " 'and',\n",
              " 'take',\n",
              " 'Green',\n",
              " 'Goblin',\n",
              " 'to',\n",
              " 'the',\n",
              " 'task',\n",
              " '...',\n",
              " 'or',\n",
              " 'else',\n",
              " 'Goblin',\n",
              " 'will',\n",
              " 'kill',\n",
              " 'him',\n",
              " '.',\n",
              " 'They',\n",
              " 'come',\n",
              " 'face',\n",
              " 'to',\n",
              " 'face',\n",
              " 'and',\n",
              " 'the',\n",
              " 'war',\n",
              " 'begins',\n",
              " 'in',\n",
              " 'which',\n",
              " 'only',\n",
              " 'one',\n",
              " 'of',\n",
              " 'them',\n",
              " 'will',\n",
              " 'survive',\n",
              " 'at',\n",
              " 'the',\n",
              " 'end',\n",
              " '.']"
            ]
          },
          "metadata": {},
          "execution_count": 47
        }
      ]
    },
    {
      "cell_type": "code",
      "metadata": {
        "id": "UF4m-Ice0j5B"
      },
      "source": [
        "from nltk.stem import PorterStemmer\n",
        "from nltk.corpus import stopwords"
      ],
      "execution_count": 48,
      "outputs": []
    },
    {
      "cell_type": "code",
      "metadata": {
        "id": "4xDfQeO12sic"
      },
      "source": [
        "cleansentences = nltk.sent_tokenize(paragraph)\n",
        "stemmer = PorterStemmer()\n",
        "\n",
        "# Stemming\n",
        "for i in range(len(sentences)):\n",
        "    words = nltk.word_tokenize(cleansentences[i])\n",
        "    cleanwords = [stemmer.stem(word) for word in words if word not in set(stopwords.words('english'))]\n",
        "    cleansentences[i] = ' '.join(cleanwords)   \n",
        "    "
      ],
      "execution_count": 49,
      "outputs": []
    },
    {
      "cell_type": "code",
      "metadata": {
        "colab": {
          "base_uri": "https://localhost:8080/"
        },
        "id": "XAVJ5rEp2zYa",
        "outputId": "59592ca8-663b-4f76-92b5-283f07be9487"
      },
      "source": [
        "cleanwords"
      ],
      "execution_count": 50,
      "outputs": [
        {
          "output_type": "execute_result",
          "data": {
            "text/plain": [
              "['they', 'come', 'face', 'face', 'war', 'begin', 'one', 'surviv', 'end', '.']"
            ]
          },
          "metadata": {},
          "execution_count": 50
        }
      ]
    },
    {
      "cell_type": "code",
      "metadata": {
        "colab": {
          "base_uri": "https://localhost:8080/"
        },
        "id": "WX_tHp6b3x8Z",
        "outputId": "80d70207-8263-4a29-a254-62fe9e563ce2"
      },
      "source": [
        "sentences"
      ],
      "execution_count": 51,
      "outputs": [
        {
          "output_type": "execute_result",
          "data": {
            "text/plain": [
              "[\" Based on Marvel Comics' superhero character, this is a story of Peter Parker who is a nerdy high-schooler.\",\n",
              " \"He was orphaned as a child, bullied by jocks, and can't confess his crush for his stunning neighborhood girl Mary Jane Watson.\",\n",
              " 'To say his life is \"miserable\" is an understatement.',\n",
              " 'But one day while on an excursion to a laboratory a runaway radioactive spider bites him... and his life changes in a way no one could have imagined.',\n",
              " \"Peter acquires a muscle-bound physique, clear vision, ability to cling to surfaces and crawl over walls, shooting webs from his wrist ... but the fun isn't going to last.\",\n",
              " 'An eccentric millionaire Norman Osborn administers a performance enhancing drug on himself and his maniacal alter ego Green Goblin emerges.',\n",
              " 'Now Peter Parker has to become Spider-Man and take Green Goblin to the task... or else Goblin will kill him.',\n",
              " 'They come face to face and the war begins in which only one of them will survive at the end.']"
            ]
          },
          "metadata": {},
          "execution_count": 51
        }
      ]
    },
    {
      "cell_type": "code",
      "metadata": {
        "colab": {
          "base_uri": "https://localhost:8080/"
        },
        "id": "8kn3aIzF3a5J",
        "outputId": "3f35745d-e539-4b3a-9e5b-c28084db524d"
      },
      "source": [
        "cleansentences"
      ],
      "execution_count": 52,
      "outputs": [
        {
          "output_type": "execute_result",
          "data": {
            "text/plain": [
              "[\"base marvel comic ' superhero charact , stori peter parker nerdi high-school .\",\n",
              " \"He orphan child , bulli jock , ca n't confess crush stun neighborhood girl mari jane watson .\",\n",
              " \"To say life `` miser '' understat .\",\n",
              " 'but one day excurs laboratori runaway radioact spider bite ... life chang way one could imagin .',\n",
              " \"peter acquir muscle-bound physiqu , clear vision , abil cling surfac crawl wall , shoot web wrist ... fun n't go last .\",\n",
              " 'An eccentr millionair norman osborn administ perform enhanc drug maniac alter ego green goblin emerg .',\n",
              " 'now peter parker becom spider-man take green goblin task ... els goblin kill .',\n",
              " 'they come face face war begin one surviv end .']"
            ]
          },
          "metadata": {},
          "execution_count": 52
        }
      ]
    }
  ]
}